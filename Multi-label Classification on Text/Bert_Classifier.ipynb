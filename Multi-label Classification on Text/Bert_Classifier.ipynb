{
  "nbformat": 4,
  "nbformat_minor": 0,
  "metadata": {
    "anaconda-cloud": {},
    "kernelspec": {
      "name": "python3",
      "display_name": "Python 3"
    },
    "language_info": {
      "codemirror_mode": {
        "name": "ipython",
        "version": 3
      },
      "file_extension": ".py",
      "mimetype": "text/x-python",
      "name": "python",
      "nbconvert_exporter": "python",
      "pygments_lexer": "ipython3",
      "version": "3.7.6"
    },
    "toc": {
      "base_numbering": 1,
      "nav_menu": {},
      "number_sections": true,
      "sideBar": true,
      "skip_h1_title": false,
      "title_cell": "Table of Contents",
      "title_sidebar": "Contents",
      "toc_cell": false,
      "toc_position": {},
      "toc_section_display": true,
      "toc_window_display": false
    },
    "varInspector": {
      "cols": {
        "lenName": 16,
        "lenType": 16,
        "lenVar": 40
      },
      "kernels_config": {
        "python": {
          "delete_cmd_postfix": "",
          "delete_cmd_prefix": "del ",
          "library": "var_list.py",
          "varRefreshCmd": "print(var_dic_list())"
        },
        "r": {
          "delete_cmd_postfix": ") ",
          "delete_cmd_prefix": "rm(",
          "library": "var_list.r",
          "varRefreshCmd": "cat(var_dic_list()) "
        }
      },
      "types_to_exclude": [
        "module",
        "function",
        "builtin_function_or_method",
        "instance",
        "_Feature"
      ],
      "window_display": false
    },
    "colab": {
      "name": "HW3.ipynb",
      "provenance": [],
      "collapsed_sections": [],
      "toc_visible": true,
      "machine_shape": "hm"
    },
    "accelerator": "GPU",
    "widgets": {
      "application/vnd.jupyter.widget-state+json": {
        "49aa8e13714a42fb9aeca844c4134272": {
          "model_module": "@jupyter-widgets/controls",
          "model_name": "HBoxModel",
          "state": {
            "_view_name": "HBoxView",
            "_dom_classes": [],
            "_model_name": "HBoxModel",
            "_view_module": "@jupyter-widgets/controls",
            "_model_module_version": "1.5.0",
            "_view_count": null,
            "_view_module_version": "1.5.0",
            "box_style": "",
            "layout": "IPY_MODEL_3c808114ee3d4a90a0172c4de1f511fc",
            "_model_module": "@jupyter-widgets/controls",
            "children": [
              "IPY_MODEL_5dfcdaeb4fbf4fa0863c8de43467ae02",
              "IPY_MODEL_0da885da6366444db1e2d54b6a223c8a"
            ]
          }
        },
        "3c808114ee3d4a90a0172c4de1f511fc": {
          "model_module": "@jupyter-widgets/base",
          "model_name": "LayoutModel",
          "state": {
            "_view_name": "LayoutView",
            "grid_template_rows": null,
            "right": null,
            "justify_content": null,
            "_view_module": "@jupyter-widgets/base",
            "overflow": null,
            "_model_module_version": "1.2.0",
            "_view_count": null,
            "flex_flow": null,
            "width": null,
            "min_width": null,
            "border": null,
            "align_items": null,
            "bottom": null,
            "_model_module": "@jupyter-widgets/base",
            "top": null,
            "grid_column": null,
            "overflow_y": null,
            "overflow_x": null,
            "grid_auto_flow": null,
            "grid_area": null,
            "grid_template_columns": null,
            "flex": null,
            "_model_name": "LayoutModel",
            "justify_items": null,
            "grid_row": null,
            "max_height": null,
            "align_content": null,
            "visibility": null,
            "align_self": null,
            "height": null,
            "min_height": null,
            "padding": null,
            "grid_auto_rows": null,
            "grid_gap": null,
            "max_width": null,
            "order": null,
            "_view_module_version": "1.2.0",
            "grid_template_areas": null,
            "object_position": null,
            "object_fit": null,
            "grid_auto_columns": null,
            "margin": null,
            "display": null,
            "left": null
          }
        },
        "5dfcdaeb4fbf4fa0863c8de43467ae02": {
          "model_module": "@jupyter-widgets/controls",
          "model_name": "IntProgressModel",
          "state": {
            "_view_name": "ProgressView",
            "style": "IPY_MODEL_707dc124d2a846ae977ade2cac4f6ef9",
            "_dom_classes": [],
            "description": "Downloading: 100%",
            "_model_name": "IntProgressModel",
            "bar_style": "success",
            "max": 231508,
            "_view_module": "@jupyter-widgets/controls",
            "_model_module_version": "1.5.0",
            "value": 231508,
            "_view_count": null,
            "_view_module_version": "1.5.0",
            "orientation": "horizontal",
            "min": 0,
            "description_tooltip": null,
            "_model_module": "@jupyter-widgets/controls",
            "layout": "IPY_MODEL_555709733543436eb57a5bbc7a04ebf7"
          }
        },
        "0da885da6366444db1e2d54b6a223c8a": {
          "model_module": "@jupyter-widgets/controls",
          "model_name": "HTMLModel",
          "state": {
            "_view_name": "HTMLView",
            "style": "IPY_MODEL_dcf58a4dabb942e2a14437a49b198610",
            "_dom_classes": [],
            "description": "",
            "_model_name": "HTMLModel",
            "placeholder": "​",
            "_view_module": "@jupyter-widgets/controls",
            "_model_module_version": "1.5.0",
            "value": " 232k/232k [00:00&lt;00:00, 1.52MB/s]",
            "_view_count": null,
            "_view_module_version": "1.5.0",
            "description_tooltip": null,
            "_model_module": "@jupyter-widgets/controls",
            "layout": "IPY_MODEL_c135035c0ef84630bb1aabe577b85bbf"
          }
        },
        "707dc124d2a846ae977ade2cac4f6ef9": {
          "model_module": "@jupyter-widgets/controls",
          "model_name": "ProgressStyleModel",
          "state": {
            "_view_name": "StyleView",
            "_model_name": "ProgressStyleModel",
            "description_width": "initial",
            "_view_module": "@jupyter-widgets/base",
            "_model_module_version": "1.5.0",
            "_view_count": null,
            "_view_module_version": "1.2.0",
            "bar_color": null,
            "_model_module": "@jupyter-widgets/controls"
          }
        },
        "555709733543436eb57a5bbc7a04ebf7": {
          "model_module": "@jupyter-widgets/base",
          "model_name": "LayoutModel",
          "state": {
            "_view_name": "LayoutView",
            "grid_template_rows": null,
            "right": null,
            "justify_content": null,
            "_view_module": "@jupyter-widgets/base",
            "overflow": null,
            "_model_module_version": "1.2.0",
            "_view_count": null,
            "flex_flow": null,
            "width": null,
            "min_width": null,
            "border": null,
            "align_items": null,
            "bottom": null,
            "_model_module": "@jupyter-widgets/base",
            "top": null,
            "grid_column": null,
            "overflow_y": null,
            "overflow_x": null,
            "grid_auto_flow": null,
            "grid_area": null,
            "grid_template_columns": null,
            "flex": null,
            "_model_name": "LayoutModel",
            "justify_items": null,
            "grid_row": null,
            "max_height": null,
            "align_content": null,
            "visibility": null,
            "align_self": null,
            "height": null,
            "min_height": null,
            "padding": null,
            "grid_auto_rows": null,
            "grid_gap": null,
            "max_width": null,
            "order": null,
            "_view_module_version": "1.2.0",
            "grid_template_areas": null,
            "object_position": null,
            "object_fit": null,
            "grid_auto_columns": null,
            "margin": null,
            "display": null,
            "left": null
          }
        },
        "dcf58a4dabb942e2a14437a49b198610": {
          "model_module": "@jupyter-widgets/controls",
          "model_name": "DescriptionStyleModel",
          "state": {
            "_view_name": "StyleView",
            "_model_name": "DescriptionStyleModel",
            "description_width": "",
            "_view_module": "@jupyter-widgets/base",
            "_model_module_version": "1.5.0",
            "_view_count": null,
            "_view_module_version": "1.2.0",
            "_model_module": "@jupyter-widgets/controls"
          }
        },
        "c135035c0ef84630bb1aabe577b85bbf": {
          "model_module": "@jupyter-widgets/base",
          "model_name": "LayoutModel",
          "state": {
            "_view_name": "LayoutView",
            "grid_template_rows": null,
            "right": null,
            "justify_content": null,
            "_view_module": "@jupyter-widgets/base",
            "overflow": null,
            "_model_module_version": "1.2.0",
            "_view_count": null,
            "flex_flow": null,
            "width": null,
            "min_width": null,
            "border": null,
            "align_items": null,
            "bottom": null,
            "_model_module": "@jupyter-widgets/base",
            "top": null,
            "grid_column": null,
            "overflow_y": null,
            "overflow_x": null,
            "grid_auto_flow": null,
            "grid_area": null,
            "grid_template_columns": null,
            "flex": null,
            "_model_name": "LayoutModel",
            "justify_items": null,
            "grid_row": null,
            "max_height": null,
            "align_content": null,
            "visibility": null,
            "align_self": null,
            "height": null,
            "min_height": null,
            "padding": null,
            "grid_auto_rows": null,
            "grid_gap": null,
            "max_width": null,
            "order": null,
            "_view_module_version": "1.2.0",
            "grid_template_areas": null,
            "object_position": null,
            "object_fit": null,
            "grid_auto_columns": null,
            "margin": null,
            "display": null,
            "left": null
          }
        }
      }
    }
  },
  "cells": [
    {
      "cell_type": "markdown",
      "metadata": {
        "id": "rNY14ldYP0GD"
      },
      "source": [
        "# Deep Learning in Medicine\n",
        "## BMSC-GA 4493, BMIN-GA 3007\n",
        "## Homework 3: RNNs\n",
        "\n",
        "Note 1: If you don't know how to run jupyter on the Prince cluster, here is another step-by-step guide here: \n",
        "<a href='https://docs.google.com/document/d/1HIdtzqJ6-RpsV0z2Gf5iXphNBTRca1kHZPlyqFxKpWs/edit?usp=sharing'> **Running Jupyter on the Cluster **</a>\n",
        "\n",
        "Note 2: If you need to write mathematical terms, you can type your answeres in a Markdown Cell via LaTex\n",
        "See: <a href=\"https://stackoverflow.com/questions/13208286/how-to-write-latex-in-ipython-notebook\">here</a> if you have issues. To see basic LaTex notation see: <a href=\"https://en.wikibooks.org/wiki/LaTeX/Mathematics\">here</a>.\n",
        "\n",
        "\n",
        "Submission instruction: Upload and Submit your final jupyter notebook file in newclasses.nyu.edu\n",
        "\n",
        "**Submission deadline: Thursday April 16th 2020 5pm.**\n",
        "\n"
      ]
    },
    {
      "cell_type": "code",
      "metadata": {
        "id": "88ZBnuJyQEfX",
        "outputId": "ffd703c1-965e-43c0-9f1a-19ec9e105259",
        "colab": {
          "base_uri": "https://localhost:8080/",
          "height": 122
        }
      },
      "source": [
        "from google.colab import drive\n",
        "drive.mount('/content/drive')"
      ],
      "execution_count": null,
      "outputs": [
        {
          "output_type": "stream",
          "text": [
            "Go to this URL in a browser: https://accounts.google.com/o/oauth2/auth?client_id=947318989803-6bn6qk8qdgf4n4g3pfee6491hc0brc4i.apps.googleusercontent.com&redirect_uri=urn%3aietf%3awg%3aoauth%3a2.0%3aoob&response_type=code&scope=email%20https%3a%2f%2fwww.googleapis.com%2fauth%2fdocs.test%20https%3a%2f%2fwww.googleapis.com%2fauth%2fdrive%20https%3a%2f%2fwww.googleapis.com%2fauth%2fdrive.photos.readonly%20https%3a%2f%2fwww.googleapis.com%2fauth%2fpeopleapi.readonly\n",
            "\n",
            "Enter your authorization code:\n",
            "··········\n",
            "Mounted at /content/drive\n"
          ],
          "name": "stdout"
        }
      ]
    },
    {
      "cell_type": "markdown",
      "metadata": {
        "id": "p7drFvi8P0GG"
      },
      "source": [
        "# Question 1: Literature Review: DeepMod (Total points 20 + 10 bonus points)\n",
        "\n",
        "Read this paper:\n",
        "\n",
        "#### Qian Liu, Li Fang, Guoliang Yu, Depeng Wang, Chuan-Le Xiao & Kai Wang, _\"Detection of DNA base modifications by deep recurrent neural network on Oxford Nanopore sequencing data\"_ ,  Nature Communications, 2019 https://www.nature.com/articles/s41467-019-10168-2\n",
        "\n",
        "We are interested in understanding the task, the methods that is proposed in this publication, technical aspects of the implementation, and possible future work.\n",
        "\n",
        "**1.1) (5 points)** After you read the full article, go back to section **Methods**. Briefly describe the primary Deep Learning architecture used in DeepMod. Write the number of layers used, number of features input to the network?\n"
      ]
    },
    {
      "cell_type": "markdown",
      "metadata": {
        "collapsed": true,
        "id": "sCQrHOUaP0GH"
      },
      "source": [
        "<font color=red>It is a bidirectional RNN of LSTM units. It has 3 hidden layers and 7 input features. </font>"
      ]
    },
    {
      "cell_type": "markdown",
      "metadata": {
        "id": "lK6RHf77P0GI"
      },
      "source": [
        "**1.2) (5 points)** Describe the optional second deep neural network architecuture, including the number of layers and number of input features, number of nodes in hidden layers. "
      ]
    },
    {
      "cell_type": "markdown",
      "metadata": {
        "collapsed": true,
        "id": "c3EYpEdzP0GI"
      },
      "source": [
        "<font color=red> It has 2 hidden layers and 14 input features. The first hidden layer has 100 hidden nodes and second hidden layer has 20 hidden nodes </font>"
      ]
    },
    {
      "cell_type": "markdown",
      "metadata": {
        "id": "5srRpJa1P0GJ"
      },
      "source": [
        "**1.3) (5 points)** What is the loss function used to train the primary network? \n",
        "\n",
        "What are the evaluation criteria used by the authors for all the tasks? (**Hint:** Look at Performance measurements)"
      ]
    },
    {
      "cell_type": "markdown",
      "metadata": {
        "collapsed": true,
        "id": "yIkL-P9bP0GK"
      },
      "source": [
        "<font color=red> The loss function for primary network is cross entropy. The evaluation criteria are accuracy, precision, recall, AP and AUC </font>"
      ]
    },
    {
      "cell_type": "markdown",
      "metadata": {
        "id": "RRj5-juUP0GK"
      },
      "source": [
        "**1.4) (5 points)** Are there some data augmentation/regularization that authors have used? What are some techniques that could have been used and wasn't?"
      ]
    },
    {
      "cell_type": "markdown",
      "metadata": {
        "collapsed": true,
        "id": "uS0fcIxyP0GL"
      },
      "source": [
        "<font color=red>Authors have used dropout. Potential data augmentation methods including noise injection, window cropping, slicing. Other regulerization techniques like early stopping, l1,l2 regulrization could be used.</font>"
      ]
    },
    {
      "cell_type": "markdown",
      "metadata": {
        "id": "mhpq5QJdP0GM"
      },
      "source": [
        "**1.5) (Bonus maximum 10 points)**. What other architectures would you try? For each family of models, please do a literature search and see if a paper on that architecture for the task of DNA base modification has been used."
      ]
    },
    {
      "cell_type": "markdown",
      "metadata": {
        "collapsed": true,
        "id": "cKYZvsqbP0GM"
      },
      "source": [
        ""
      ]
    },
    {
      "cell_type": "markdown",
      "metadata": {
        "id": "tkaihzxOP0GN"
      },
      "source": [
        "# Question 2: Literature Review: Self Attention (20 points + 10 bonus points)\n",
        "\n",
        "Read this paper: \n",
        "\n",
        "\n",
        "#### Xianlong Zeng, Yunyi Feng, Soheil Moosavinasab, Deborah Lin, Simon Lin, Chang Liu _\"Multilevel Self-Attention Model and its Use on Medical Risk Prediction\"_ https://psb.stanford.edu/psb-online/proceedings/psb20/Zeng.pdf\n",
        "\n",
        "After you read the paper, go back to Section 3.2 and 3.3. \n",
        "\n",
        "**2.1) (10 points)** Describe the architecture used in the paper to generate patient embedding. Please mention the architecture of self-attention units including any formula given in paper. Also include the input to the architecture.  \n"
      ]
    },
    {
      "cell_type": "markdown",
      "metadata": {
        "collapsed": true,
        "id": "rw9-6BoyP0GN"
      },
      "source": [
        "<font color =red>The overall architecture consist of two level of self-attention encoders. Each encoder is a self-attention layer stacked with fully connected layers.<br>\n",
        "    \n",
        "First medical codes are fed into the first self-attention layer to generate Visit Embeddings. Next Time Embedding is added to Visited Embedding and the result is fed to second self-attention layer. Second self-attention layer aggregates all visit embedding and produces intermediate patient representation u. Finally u is conncatentated with demographic embedding d, and the result is fed through a stack of three fully connected neural net to generate patient embedding p.</font>"
      ]
    },
    {
      "cell_type": "markdown",
      "metadata": {
        "id": "BYrF8R8IP0GO"
      },
      "source": [
        "self attention unit includes a self-attention layer:\n",
        "$$\\alpha_{c_{k}c_{1}},\\alpha_{c_{k}c_{2}}...\\alpha_{c_{k}c_{|v|}}= \n",
        "softmax(\\frac{Q_{c_{1}}K_{c_{1}}}{\\sqrt{m}}, \\frac{Q_{c_{1}}K_{c_{2}}}{\\sqrt{m}},... \\frac{Q_{c_{k}}K_{c_{k}}}{\\sqrt{m}}) $$\n",
        "\n",
        "where Q_{c_{k}} and K_{c_{k}} are query and key\n",
        "$$Q_{c_{k}} = W_{q}c_{k} $$\n",
        "\n",
        "$$K_{c_{k}} = W_{k}c_{k} $$\n",
        "The attention layer output goes through a feed-forward structure\n",
        "$$ S_{c}(c_{k}|c_{1},c_{2},...,c_{j}) = \\sigma(f(c_{k}+\\sum_{l=1}^{|v|}\\alpha_{c_{k}c_{1}}c_{k}))$$\n",
        "where $\\sigma$ denotes residual connection and layer normalization. $f$ denotes feed-forward structure"
      ]
    },
    {
      "cell_type": "markdown",
      "metadata": {
        "id": "wJIQrC1YP0GP"
      },
      "source": [
        "**2.2) (5 points)** What are the different tasks that the architecture is used to solve? What are the Loss functions used for different tasks? What are the evaluation criteria for the different tasks?"
      ]
    },
    {
      "cell_type": "markdown",
      "metadata": {
        "collapsed": true,
        "id": "VpQYT1P4P0GP"
      },
      "source": [
        "<font color=red> One task is disease classificatin and one task is medical cost prediction. For classification task, negative log likelihood is loss function and recall at K is evaluation criteria. For prediction task, mean squared error is loss function and mean absolute error is evaluation criteria. </font>"
      ]
    },
    {
      "cell_type": "markdown",
      "metadata": {
        "id": "SDHY4MtYP0GQ"
      },
      "source": [
        "**2.3) (5 points)** In Section 5.2 What is the best model according to the evaluation criteria? How is it different from the second best model?"
      ]
    },
    {
      "cell_type": "markdown",
      "metadata": {
        "id": "RhETAiVLP0GQ"
      },
      "source": [
        "<font color=red>The best model is MSAM with auxiliary task(disease prediction). Compared to the second best model, the best one jointly trains disease prediction as auxiliary task. So it has a loss function as a combination of negative log likelihood and mean squared error.</font>"
      ]
    },
    {
      "cell_type": "markdown",
      "metadata": {
        "id": "kEFq0LsxP0GR"
      },
      "source": [
        "**2.4) (Bonus maximum 10 points)** What are some alternative architectures/Loss functions/Pretraining methods that you would recommend as followup work? Name 2 potential architectures, and in a few sentences explain why the proposed changes might work better.\n"
      ]
    },
    {
      "cell_type": "markdown",
      "metadata": {
        "id": "gObyuCkRP0GS"
      },
      "source": [
        ""
      ]
    },
    {
      "cell_type": "markdown",
      "metadata": {
        "id": "kLzwsSsOP0GS"
      },
      "source": [
        "# Question 3 - Programming: Build Classifiers on Medical Transcriptions - Recurrent Neural Networks and Self Attention(60 points + 10 bonus points)\n",
        "\n",
        "Let's build some models now. In this homework, we will focus on a dataset which has around 5000 medical transcriptions and the corresponding medical specialty. The data is available <a href=\"https://www.kaggle.com/tboyle10/medicaltranscriptions\">here</a>.\n",
        "\n",
        "Here, we will focus on predicting top few classes of medical specialty, from the transcription text. <a href=\"https://github.com/nyumc-dl/BMSC-GA-4493-Spring2020/tree/master/lab5\">Lab 5</a> will be very useful here."
      ]
    },
    {
      "cell_type": "markdown",
      "metadata": {
        "id": "_OJIo_YJP0GT"
      },
      "source": [
        "**3.1) (5 points)** Read the csv using Pandas. Select the top 5 classes ('medical_specialty') from the data. Only keep the rows that belong to one of these classes in your data. Which classes are there, and how many rows do you have after this filteration?"
      ]
    },
    {
      "cell_type": "code",
      "metadata": {
        "scrolled": true,
        "id": "t42iXDbAP0GT",
        "outputId": "f07dd916-437f-4264-fecc-df45464fa1df",
        "colab": {
          "base_uri": "https://localhost:8080/",
          "height": 306
        }
      },
      "source": [
        "import pandas as pd\n",
        "df = pd.read_csv('/content/drive/My Drive/data/mtsamples.csv')\n",
        "df.head()"
      ],
      "execution_count": null,
      "outputs": [
        {
          "output_type": "execute_result",
          "data": {
            "text/html": [
              "<div>\n",
              "<style scoped>\n",
              "    .dataframe tbody tr th:only-of-type {\n",
              "        vertical-align: middle;\n",
              "    }\n",
              "\n",
              "    .dataframe tbody tr th {\n",
              "        vertical-align: top;\n",
              "    }\n",
              "\n",
              "    .dataframe thead th {\n",
              "        text-align: right;\n",
              "    }\n",
              "</style>\n",
              "<table border=\"1\" class=\"dataframe\">\n",
              "  <thead>\n",
              "    <tr style=\"text-align: right;\">\n",
              "      <th></th>\n",
              "      <th>Unnamed: 0</th>\n",
              "      <th>description</th>\n",
              "      <th>medical_specialty</th>\n",
              "      <th>sample_name</th>\n",
              "      <th>transcription</th>\n",
              "      <th>keywords</th>\n",
              "    </tr>\n",
              "  </thead>\n",
              "  <tbody>\n",
              "    <tr>\n",
              "      <th>0</th>\n",
              "      <td>0</td>\n",
              "      <td>A 23-year-old white female presents with comp...</td>\n",
              "      <td>Allergy / Immunology</td>\n",
              "      <td>Allergic Rhinitis</td>\n",
              "      <td>SUBJECTIVE:,  This 23-year-old white female pr...</td>\n",
              "      <td>allergy / immunology, allergic rhinitis, aller...</td>\n",
              "    </tr>\n",
              "    <tr>\n",
              "      <th>1</th>\n",
              "      <td>1</td>\n",
              "      <td>Consult for laparoscopic gastric bypass.</td>\n",
              "      <td>Bariatrics</td>\n",
              "      <td>Laparoscopic Gastric Bypass Consult - 2</td>\n",
              "      <td>PAST MEDICAL HISTORY:, He has difficulty climb...</td>\n",
              "      <td>bariatrics, laparoscopic gastric bypass, weigh...</td>\n",
              "    </tr>\n",
              "    <tr>\n",
              "      <th>2</th>\n",
              "      <td>2</td>\n",
              "      <td>Consult for laparoscopic gastric bypass.</td>\n",
              "      <td>Bariatrics</td>\n",
              "      <td>Laparoscopic Gastric Bypass Consult - 1</td>\n",
              "      <td>HISTORY OF PRESENT ILLNESS: , I have seen ABC ...</td>\n",
              "      <td>bariatrics, laparoscopic gastric bypass, heart...</td>\n",
              "    </tr>\n",
              "    <tr>\n",
              "      <th>3</th>\n",
              "      <td>3</td>\n",
              "      <td>2-D M-Mode. Doppler.</td>\n",
              "      <td>Cardiovascular / Pulmonary</td>\n",
              "      <td>2-D Echocardiogram - 1</td>\n",
              "      <td>2-D M-MODE: , ,1.  Left atrial enlargement wit...</td>\n",
              "      <td>cardiovascular / pulmonary, 2-d m-mode, dopple...</td>\n",
              "    </tr>\n",
              "    <tr>\n",
              "      <th>4</th>\n",
              "      <td>4</td>\n",
              "      <td>2-D Echocardiogram</td>\n",
              "      <td>Cardiovascular / Pulmonary</td>\n",
              "      <td>2-D Echocardiogram - 2</td>\n",
              "      <td>1.  The left ventricular cavity size and wall ...</td>\n",
              "      <td>cardiovascular / pulmonary, 2-d, doppler, echo...</td>\n",
              "    </tr>\n",
              "  </tbody>\n",
              "</table>\n",
              "</div>"
            ],
            "text/plain": [
              "   Unnamed: 0  ...                                           keywords\n",
              "0           0  ...  allergy / immunology, allergic rhinitis, aller...\n",
              "1           1  ...  bariatrics, laparoscopic gastric bypass, weigh...\n",
              "2           2  ...  bariatrics, laparoscopic gastric bypass, heart...\n",
              "3           3  ...  cardiovascular / pulmonary, 2-d m-mode, dopple...\n",
              "4           4  ...  cardiovascular / pulmonary, 2-d, doppler, echo...\n",
              "\n",
              "[5 rows x 6 columns]"
            ]
          },
          "metadata": {
            "tags": []
          },
          "execution_count": 2
        }
      ]
    },
    {
      "cell_type": "code",
      "metadata": {
        "id": "xXdYzqWPP0Gc",
        "outputId": "4d3a8fb5-cf28-4d12-b86f-e87b78280a7a",
        "colab": {
          "base_uri": "https://localhost:8080/",
          "height": 34
        }
      },
      "source": [
        "df['transcription'].isnull().values.any()"
      ],
      "execution_count": null,
      "outputs": [
        {
          "output_type": "execute_result",
          "data": {
            "text/plain": [
              "True"
            ]
          },
          "metadata": {
            "tags": []
          },
          "execution_count": 94
        }
      ]
    },
    {
      "cell_type": "code",
      "metadata": {
        "id": "E6xeLYPYP0Gg"
      },
      "source": [
        "df = df.dropna()"
      ],
      "execution_count": null,
      "outputs": []
    },
    {
      "cell_type": "code",
      "metadata": {
        "id": "i3haAeUBP0Gj",
        "outputId": "efdd5be5-be93-4795-f680-ea721139ad81",
        "colab": {
          "base_uri": "https://localhost:8080/",
          "height": 235
        }
      },
      "source": [
        "df.groupby('medical_specialty').count().nlargest(5,'sample_name')"
      ],
      "execution_count": null,
      "outputs": [
        {
          "output_type": "execute_result",
          "data": {
            "text/html": [
              "<div>\n",
              "<style scoped>\n",
              "    .dataframe tbody tr th:only-of-type {\n",
              "        vertical-align: middle;\n",
              "    }\n",
              "\n",
              "    .dataframe tbody tr th {\n",
              "        vertical-align: top;\n",
              "    }\n",
              "\n",
              "    .dataframe thead th {\n",
              "        text-align: right;\n",
              "    }\n",
              "</style>\n",
              "<table border=\"1\" class=\"dataframe\">\n",
              "  <thead>\n",
              "    <tr style=\"text-align: right;\">\n",
              "      <th></th>\n",
              "      <th>Unnamed: 0</th>\n",
              "      <th>description</th>\n",
              "      <th>sample_name</th>\n",
              "      <th>transcription</th>\n",
              "      <th>keywords</th>\n",
              "    </tr>\n",
              "    <tr>\n",
              "      <th>medical_specialty</th>\n",
              "      <th></th>\n",
              "      <th></th>\n",
              "      <th></th>\n",
              "      <th></th>\n",
              "      <th></th>\n",
              "    </tr>\n",
              "  </thead>\n",
              "  <tbody>\n",
              "    <tr>\n",
              "      <th>Surgery</th>\n",
              "      <td>1021</td>\n",
              "      <td>1021</td>\n",
              "      <td>1021</td>\n",
              "      <td>1021</td>\n",
              "      <td>1021</td>\n",
              "    </tr>\n",
              "    <tr>\n",
              "      <th>Orthopedic</th>\n",
              "      <td>303</td>\n",
              "      <td>303</td>\n",
              "      <td>303</td>\n",
              "      <td>303</td>\n",
              "      <td>303</td>\n",
              "    </tr>\n",
              "    <tr>\n",
              "      <th>Cardiovascular / Pulmonary</th>\n",
              "      <td>280</td>\n",
              "      <td>280</td>\n",
              "      <td>280</td>\n",
              "      <td>280</td>\n",
              "      <td>280</td>\n",
              "    </tr>\n",
              "    <tr>\n",
              "      <th>Radiology</th>\n",
              "      <td>251</td>\n",
              "      <td>251</td>\n",
              "      <td>251</td>\n",
              "      <td>251</td>\n",
              "      <td>251</td>\n",
              "    </tr>\n",
              "    <tr>\n",
              "      <th>Consult - History and Phy.</th>\n",
              "      <td>234</td>\n",
              "      <td>234</td>\n",
              "      <td>234</td>\n",
              "      <td>234</td>\n",
              "      <td>234</td>\n",
              "    </tr>\n",
              "  </tbody>\n",
              "</table>\n",
              "</div>"
            ],
            "text/plain": [
              "                             Unnamed: 0  description  ...  transcription  keywords\n",
              "medical_specialty                                     ...                         \n",
              " Surgery                           1021         1021  ...           1021      1021\n",
              " Orthopedic                         303          303  ...            303       303\n",
              " Cardiovascular / Pulmonary         280          280  ...            280       280\n",
              " Radiology                          251          251  ...            251       251\n",
              " Consult - History and Phy.         234          234  ...            234       234\n",
              "\n",
              "[5 rows x 5 columns]"
            ]
          },
          "metadata": {
            "tags": []
          },
          "execution_count": 7
        }
      ]
    },
    {
      "cell_type": "code",
      "metadata": {
        "id": "-J8n2N_TP0Gm"
      },
      "source": [
        "index = df.groupby('medical_specialty').count().nlargest(5,'sample_name').index.values"
      ],
      "execution_count": null,
      "outputs": []
    },
    {
      "cell_type": "code",
      "metadata": {
        "id": "GGMKJbG8P0Gp",
        "outputId": "c9d8540c-3d9c-46ee-f4f5-615d044698da",
        "colab": {
          "base_uri": "https://localhost:8080/",
          "height": 51
        }
      },
      "source": [
        "index"
      ],
      "execution_count": null,
      "outputs": [
        {
          "output_type": "execute_result",
          "data": {
            "text/plain": [
              "array([' Surgery', ' Orthopedic', ' Cardiovascular / Pulmonary',\n",
              "       ' Radiology', ' Consult - History and Phy.'], dtype=object)"
            ]
          },
          "metadata": {
            "tags": []
          },
          "execution_count": 8
        }
      ]
    },
    {
      "cell_type": "code",
      "metadata": {
        "id": "nNUWWiwoP0Gt"
      },
      "source": [
        "# The top classes are 'Sugery','Consult - History and Phy.','Cardiovascular / Pulmonary','Orthopedic','Radiology'\n",
        "topclasses = index\n",
        "df2 = df[df.medical_specialty.isin(topclasses)][['transcription','medical_specialty']]"
      ],
      "execution_count": null,
      "outputs": []
    },
    {
      "cell_type": "code",
      "metadata": {
        "id": "lwsfgLc5P0Gz",
        "outputId": "ad9549d9-ff1d-4b1a-8b8b-5e1a3aa57f6e",
        "colab": {
          "base_uri": "https://localhost:8080/",
          "height": 34
        }
      },
      "source": [
        "# I have 2089 rows left after filtering out the top five classes and dropna\n",
        "df2.shape"
      ],
      "execution_count": null,
      "outputs": [
        {
          "output_type": "execute_result",
          "data": {
            "text/plain": [
              "(2089, 2)"
            ]
          },
          "metadata": {
            "tags": []
          },
          "execution_count": 51
        }
      ]
    },
    {
      "cell_type": "markdown",
      "metadata": {
        "id": "bzzD-KJyP0G2"
      },
      "source": [
        "**3.2) (5 points)** Now convert your data into train, test and validation set. Shuffle the rows, and split them with ratios of (train:60%, valid:20%, test:20%). Set the random seed to 2020. Please follow the steps from https://pytorch.org/docs/stable/notes/randomness.html to set all the seeds to make the results reproducible."
      ]
    },
    {
      "cell_type": "code",
      "metadata": {
        "id": "sE_ABY60P0G2"
      },
      "source": [
        "import torch\n",
        "import numpy as np\n",
        "from torch.nn.utils.rnn import pack_padded_sequence\n",
        "import torch\n",
        "import torch.nn as nn\n",
        "import torch.nn.functional as F\n",
        "from sklearn.metrics import roc_auc_score\n",
        "import torch.optim as optim\n",
        "import time\n",
        "#device = torch.device(\"cpu\")\n",
        "device = torch.device(\"cuda\")\n",
        "\n",
        "torch.manual_seed(2020)\n",
        "np.random.seed(2020)\n",
        "torch.backends.cudnn.deterministic = True\n",
        "torch.backends.cudnn.benchmark = False\n",
        "from sklearn.model_selection import train_test_split\n",
        "\n",
        "\n",
        "# encoding label\n",
        "classtolabel = {' Surgery':0,' Consult - History and Phy.':1,' Cardiovascular / Pulmonary':2,\n",
        "                ' Orthopedic':3, ' Radiology':4\n",
        "               }\n",
        "df2['medical_specialty'] = df2['medical_specialty'].map(classtolabel)\n",
        "#\n",
        "\n",
        "train_all,test_data = train_test_split(df2,test_size = 0.20,random_state=2020)\n",
        "train_data,validation_data = train_test_split(train_all,test_size = 0.25, random_state=2020)\n",
        "train_data.index = np.arange(len(train_data))\n",
        "validation_data.index = np.arange(len(validation_data))\n",
        "test_data.index = np.arange(len(test_data))\n"
      ],
      "execution_count": null,
      "outputs": []
    },
    {
      "cell_type": "code",
      "metadata": {
        "id": "oWZO61RWP0G5",
        "outputId": "6438a489-8b6c-4100-b861-6f6bd61da293",
        "colab": {
          "base_uri": "https://localhost:8080/",
          "height": 204
        }
      },
      "source": [
        "train_data.head()"
      ],
      "execution_count": null,
      "outputs": [
        {
          "output_type": "execute_result",
          "data": {
            "text/html": [
              "<div>\n",
              "<style scoped>\n",
              "    .dataframe tbody tr th:only-of-type {\n",
              "        vertical-align: middle;\n",
              "    }\n",
              "\n",
              "    .dataframe tbody tr th {\n",
              "        vertical-align: top;\n",
              "    }\n",
              "\n",
              "    .dataframe thead th {\n",
              "        text-align: right;\n",
              "    }\n",
              "</style>\n",
              "<table border=\"1\" class=\"dataframe\">\n",
              "  <thead>\n",
              "    <tr style=\"text-align: right;\">\n",
              "      <th></th>\n",
              "      <th>transcription</th>\n",
              "      <th>medical_specialty</th>\n",
              "    </tr>\n",
              "  </thead>\n",
              "  <tbody>\n",
              "    <tr>\n",
              "      <th>0</th>\n",
              "      <td>PREOPERATIVE DIAGNOSES:,1.  Right carpal tunne...</td>\n",
              "      <td>3</td>\n",
              "    </tr>\n",
              "    <tr>\n",
              "      <th>1</th>\n",
              "      <td>INDICATIONS FOR PROCEDURE:,  Persistent cough ...</td>\n",
              "      <td>0</td>\n",
              "    </tr>\n",
              "    <tr>\n",
              "      <th>2</th>\n",
              "      <td>PREOPERATIVE DIAGNOSIS:,  12 week incomplete m...</td>\n",
              "      <td>0</td>\n",
              "    </tr>\n",
              "    <tr>\n",
              "      <th>3</th>\n",
              "      <td>REASON FOR CONSULTATION: , Loculated left effu...</td>\n",
              "      <td>1</td>\n",
              "    </tr>\n",
              "    <tr>\n",
              "      <th>4</th>\n",
              "      <td>REASON FOR EXAMINATION:,  Abnormal EKG.,FINDIN...</td>\n",
              "      <td>2</td>\n",
              "    </tr>\n",
              "  </tbody>\n",
              "</table>\n",
              "</div>"
            ],
            "text/plain": [
              "                                       transcription  medical_specialty\n",
              "0  PREOPERATIVE DIAGNOSES:,1.  Right carpal tunne...                  3\n",
              "1  INDICATIONS FOR PROCEDURE:,  Persistent cough ...                  0\n",
              "2  PREOPERATIVE DIAGNOSIS:,  12 week incomplete m...                  0\n",
              "3  REASON FOR CONSULTATION: , Loculated left effu...                  1\n",
              "4  REASON FOR EXAMINATION:,  Abnormal EKG.,FINDIN...                  2"
            ]
          },
          "metadata": {
            "tags": []
          },
          "execution_count": 13
        }
      ]
    },
    {
      "cell_type": "markdown",
      "metadata": {
        "id": "Kh1LcvSCP0G8"
      },
      "source": [
        "**3.3) (5 points)** Create a function to create vocabulary from the training data. Only use the transcription column for this. Use the tokenization scheme of your choice and create a vocabulary."
      ]
    },
    {
      "cell_type": "code",
      "metadata": {
        "id": "F1gjkC1WP0G9",
        "outputId": "2fb2e172-14a5-4f02-da63-52bdbf6830a3",
        "colab": {
          "base_uri": "https://localhost:8080/",
          "height": 68
        }
      },
      "source": [
        "import re\n",
        "import nltk\n",
        "nltk.download('punkt')\n",
        "from nltk.tokenize import word_tokenize\n",
        "from collections import Counter\n",
        "\n",
        "UNK = \"<UNK>\"\n",
        "PAD = \"<PAD>\"\n",
        "\n",
        "def build_vocab(sentences, min_count=3, max_vocab=None):\n",
        "    \"\"\"\n",
        "    Build vocabulary from sentences (list of strings)\n",
        "    \"\"\"\n",
        "    # keep track of the number of appearance of each word\n",
        "    word_count = Counter()\n",
        "    \n",
        "    for sentence in sentences:\n",
        "        sentence = str(sentence)\n",
        "        sentence = re.sub('[\\\\(\\[#.!?,\\'\\/\\])0-9]', ' ', sentence)\n",
        "        word_count.update(word_tokenize(sentence.lower()))\n",
        "    \n",
        "    vocabulary = list([w for w in word_count if word_count[w] > min_count]) + [UNK, PAD]\n",
        "    indices = dict(zip(vocabulary, range(len(vocabulary))))\n",
        "\n",
        "    return vocabulary, indices\n",
        "\n",
        "vocabulary, vocab_indices = build_vocab(train_data['transcription'])\n",
        "print(len(vocabulary))"
      ],
      "execution_count": null,
      "outputs": [
        {
          "output_type": "stream",
          "text": [
            "[nltk_data] Downloading package punkt to /root/nltk_data...\n",
            "[nltk_data]   Unzipping tokenizers/punkt.zip.\n",
            "7179\n"
          ],
          "name": "stdout"
        }
      ]
    },
    {
      "cell_type": "code",
      "metadata": {
        "id": "75DzELL1P0HA",
        "outputId": "2aa0d730-4562-4d4e-9e87-0fc3418c3283",
        "colab": {
          "base_uri": "https://localhost:8080/",
          "height": 34
        }
      },
      "source": [
        "type(vocabulary[0])"
      ],
      "execution_count": null,
      "outputs": [
        {
          "output_type": "execute_result",
          "data": {
            "text/plain": [
              "str"
            ]
          },
          "metadata": {
            "tags": []
          },
          "execution_count": 15
        }
      ]
    },
    {
      "cell_type": "code",
      "metadata": {
        "id": "-JbFughMP0HE",
        "outputId": "5a646f11-6dfc-4db7-ee3d-6aaf213e054b",
        "colab": {
          "base_uri": "https://localhost:8080/",
          "height": 34
        }
      },
      "source": [
        "vocabulary[:5]"
      ],
      "execution_count": null,
      "outputs": [
        {
          "output_type": "execute_result",
          "data": {
            "text/plain": [
              "['preoperative', 'diagnoses', ':', 'right', 'carpal']"
            ]
          },
          "metadata": {
            "tags": []
          },
          "execution_count": 16
        }
      ]
    },
    {
      "cell_type": "code",
      "metadata": {
        "id": "MXd2sh-7P0HH",
        "outputId": "9abffbdf-76c1-4a51-9d60-51835d2212dc",
        "colab": {
          "base_uri": "https://localhost:8080/",
          "height": 34
        }
      },
      "source": [
        "list(vocab_indices.items())[:5]"
      ],
      "execution_count": null,
      "outputs": [
        {
          "output_type": "execute_result",
          "data": {
            "text/plain": [
              "[('preoperative', 0), ('diagnoses', 1), (':', 2), ('right', 3), ('carpal', 4)]"
            ]
          },
          "metadata": {
            "tags": []
          },
          "execution_count": 17
        }
      ]
    },
    {
      "cell_type": "markdown",
      "metadata": {
        "id": "FGkRWi31P0HJ"
      },
      "source": [
        "**3.4) (10 points)** Write a dataloader and collate function so that we can begin to train our networks! You can choose to use either the complete transcription text or fix a maximum length of transcription text as input for your model."
      ]
    },
    {
      "cell_type": "code",
      "metadata": {
        "id": "rrvLhz0fP0HK"
      },
      "source": [
        "from torch.utils.data import DataLoader, Dataset\n",
        "from torch.nn.utils.rnn import pad_sequence\n",
        "class TranscriptDataset(Dataset):\n",
        "    def __init__(self, vocab_index, df, label='medical_specialty'):\n",
        "        self.vocab_index = vocab_index\n",
        "        self.df = df\n",
        "        self.label = label\n",
        "    \n",
        "    def __len__(self):\n",
        "        return len(self.df.index)\n",
        "    \n",
        "    def __getitem__(self, key):\n",
        "        sentence = self.df.loc[key,'transcription']\n",
        "        sentence = str(sentence)\n",
        "        sentence = re.sub('[\\\\(\\[#.!?,\\'\\/\\])0-9]',' ', sentence)\n",
        "        token_indices = np.array([self.vocab_index[word] if word in self.vocab_index else self.vocab_index['<UNK>']\n",
        "                                 for word in word_tokenize(sentence.lower())])\n",
        "        return (torch.tensor(token_indices), self.df.loc[key, self.label])\n",
        "\n",
        "def pad_collate(batch):\n",
        "    (xx, yy) = zip(*batch)\n",
        "    \n",
        "    x_lens = [len(x) for x in xx]\n",
        "        \n",
        "    xx_pad = pad_sequence(xx, batch_first=True, padding_value=len(vocabulary)-1)\n",
        "    \n",
        "    return torch.as_tensor(xx_pad), torch.as_tensor(x_lens), torch.LongTensor(yy)\n",
        "\n",
        "BATCH_SIZE = 32\n",
        "train_loader = DataLoader(TranscriptDataset(vocab_indices, train_data),\n",
        "                          batch_size=BATCH_SIZE,\n",
        "                          shuffle=True,\n",
        "                          collate_fn = pad_collate)\n",
        "\n",
        "validation_loader = DataLoader(TranscriptDataset(vocab_indices, validation_data),\n",
        "                          batch_size=BATCH_SIZE,\n",
        "                          shuffle=True,\n",
        "                          collate_fn = pad_collate)\n",
        "\n",
        "test_loader = DataLoader(TranscriptDataset(vocab_indices, test_data),\n",
        "                         batch_size=BATCH_SIZE,\n",
        "                         shuffle=True,\n",
        "                         collate_fn = pad_collate)\n"
      ],
      "execution_count": null,
      "outputs": []
    },
    {
      "cell_type": "code",
      "metadata": {
        "id": "4YuVyZnCP0HM"
      },
      "source": [
        "it = iter(train_loader)\n",
        "sample = next(it)"
      ],
      "execution_count": null,
      "outputs": []
    },
    {
      "cell_type": "code",
      "metadata": {
        "id": "LzBwm-ACP0HO",
        "outputId": "1134b55d-649e-4862-cfa4-f2e24eacaffb",
        "colab": {
          "base_uri": "https://localhost:8080/",
          "height": 221
        }
      },
      "source": [
        "sample"
      ],
      "execution_count": null,
      "outputs": [
        {
          "output_type": "execute_result",
          "data": {
            "text/plain": [
              "(tensor([[   0,    1,    2,  ..., 7178, 7178, 7178],\n",
              "         [1414,    2, 1044,  ..., 7178, 7178, 7178],\n",
              "         [ 118,    2,  760,  ..., 7178, 7178, 7178],\n",
              "         ...,\n",
              "         [4831,  846, 5222,  ..., 7178, 7178, 7178],\n",
              "         [5149,  496, 1123,  ..., 7178, 7178, 7178],\n",
              "         [ 846,    2,  570,  ..., 7178, 7178, 7178]]),\n",
              " tensor([ 298,   22,  710,  347,  360,  280,  555,  210,  318,  494,  181,  380,\n",
              "          337,  562,  326,  314,  222,  635,  591, 1601,  301,  753,  321,  235,\n",
              "          400,  773,  663,  240,  617,  335,  437,  347]),\n",
              " tensor([0, 0, 4, 3, 1, 1, 2, 2, 4, 0, 4, 0, 0, 0, 3, 1, 0, 0, 1, 3, 3, 3, 0, 4,\n",
              "         3, 0, 0, 3, 0, 1, 4, 4]))"
            ]
          },
          "metadata": {
            "tags": []
          },
          "execution_count": 20
        }
      ]
    },
    {
      "cell_type": "code",
      "metadata": {
        "id": "tzNCcLIPP0HR",
        "outputId": "75e8de48-6576-4aab-ed13-e1fbc3f606d4",
        "colab": {
          "base_uri": "https://localhost:8080/",
          "height": 68
        }
      },
      "source": [
        "print(sample[0].size())\n",
        "print(type(sample[1]))\n",
        "print(sample[2].size())\n"
      ],
      "execution_count": null,
      "outputs": [
        {
          "output_type": "stream",
          "text": [
            "torch.Size([32, 1601])\n",
            "<class 'torch.Tensor'>\n",
            "torch.Size([32])\n"
          ],
          "name": "stdout"
        }
      ]
    },
    {
      "cell_type": "markdown",
      "metadata": {
        "id": "kqmtpBVFP0HU"
      },
      "source": [
        "**3.5) (10 points)** Now you are ready to build your sequence classification model!\n",
        "\n",
        "First, Build a simple GRU model that takes as input the text indices from the vocabulary, and ends with a softmax over total number of classes. Use the embedding and hidden dimension of your choice. \n",
        "\n",
        "**Please train your model to reach at the least 55% accuracy on the test set.**\n",
        "\n",
        "At each epoch, compute and print **Average Cross Entropy loss** and **Accuracy** on both **train and validation set** \n",
        "\n",
        "Plot your validation and train loss over different epochs. \n",
        "\n",
        "Plot your validation and train accuracies over different epochs. \n",
        "\n",
        "Finally print accuracy on the test set."
      ]
    },
    {
      "cell_type": "code",
      "metadata": {
        "id": "MpxUVRoqP0HU"
      },
      "source": [
        "\n",
        "class GRU(nn.Module):\n",
        "    def __init__(self, hidden_dim, output_dim, \n",
        "                 vocab_size, embedding_dim, rnn='GRU'):\n",
        "        super(GRU, self).__init__()\n",
        "                                  \n",
        "        self.emb = nn.Embedding(vocab_size, embedding_dim, padding_idx=vocab_size-1)\n",
        "        self.hidden_dim = hidden_dim\n",
        "        self.rnn_fn = rnn\n",
        "        assert self.rnn_fn in ['LSTM','GRU']\n",
        "        self.rnn = getattr(nn, rnn)(embedding_dim, hidden_dim, batch_first=True)\n",
        "        self.fc = nn.Linear(hidden_dim, output_dim)\n",
        "        \n",
        "    def forward(self, x, x_len):\n",
        "        x = self.emb(x)\n",
        "        \n",
        "        _, last_hidden = self.rnn(pack_padded_sequence(x, x_len, batch_first=True, enforce_sorted=False))\n",
        "        if self.rnn_fn == 'LSTM':\n",
        "          last_hidden = last_hidden[0]\n",
        "        out = self.fc(last_hidden.view(-1, self.hidden_dim))\n",
        "        return out"
      ],
      "execution_count": null,
      "outputs": []
    },
    {
      "cell_type": "code",
      "metadata": {
        "id": "cVEeX0TBP0HW"
      },
      "source": [
        "\n",
        "\n",
        "def train(model, scheduler, optimizer, train_loader, test_loader, \n",
        "          num_epoch=10,  print_every=100):\n",
        "    # Training steps\n",
        "    start_time = time.time()\n",
        "    loss_fn = nn.CrossEntropyLoss()\n",
        "    loss_record = {'train':[],'validate':[]}\n",
        "    acc_record = {'train':[],'validate':[]}\n",
        "    best_acc = 0 \n",
        "    for epoch in range(num_epoch):\n",
        "        model.train()\n",
        "        running_correct = 0\n",
        "        running_loss = 0 \n",
        "        running_total = 0 \n",
        "        for data, data_len, labels in train_loader:\n",
        "            data, data_len, labels = data.to(device), data_len.to(device), labels.to(device)\n",
        "            outputs = model(data, data_len)\n",
        "            model.zero_grad()\n",
        "            \n",
        "            loss = loss_fn(outputs.squeeze(), labels)\n",
        "            _, preds = torch.max(outputs, dim=1)\n",
        "            running_correct += torch.sum(preds == labels).item()\n",
        "            batch_size = data.size()[0]\n",
        "            running_loss += loss.item()*batch_size\n",
        "            running_total += batch_size\n",
        "            loss.backward()\n",
        "            optimizer.step()\n",
        "\n",
        "        \n",
        "\n",
        "        epoch_acc = float(100*running_correct/running_total)\n",
        "        epoch_loss = float(running_loss/running_total)\n",
        "       \n",
        "        loss_record['train'].append(epoch_loss)\n",
        "        acc_record['train'].append(epoch_acc)\n",
        "        print('Train set epoch:{} |  epoch Loss:{:6.4f}| epoch accuracy:{:6.4f}'.format(\n",
        "               epoch, epoch_loss, epoch_acc))     \n",
        "    \n",
        "    # Evaluate after every epochh\n",
        "        running_correct = 0\n",
        "        running_loss = 0 \n",
        "        running_total = 0\n",
        "        model.eval()\n",
        "\n",
        "        predictions = []\n",
        "        truths = []\n",
        "\n",
        "        with torch.no_grad():\n",
        "            for i, (data, data_len, labels) in enumerate(test_loader):\n",
        "                data, data_len, labels = data.to(device), data_len.to(device), labels.to(device)\n",
        "                data = data.long()\n",
        "                outputs = model(data, data_len)\n",
        "                pred = outputs.data.max(-1)[1]\n",
        "                loss = loss_fn(outputs.squeeze(), labels)\n",
        "                predictions += list(pred.cpu().numpy())\n",
        "                truths += list(labels.cpu().numpy())\n",
        "                running_total += data.size(0)\n",
        "                running_correct += (pred == labels).sum()\n",
        "                running_loss += loss.item()* data.size(0)\n",
        "                \n",
        "            val_acc = float(100 * running_correct / running_total)\n",
        "            val_loss = float(running_loss/running_total)\n",
        "            if val_acc > best_acc:\n",
        "              best_acc = val_acc\n",
        "              best_model_wts = model.state_dict()\n",
        "\n",
        "            loss_record['validate'].append(val_loss)\n",
        "            acc_record['validate'].append(val_acc)\n",
        "            elapse = time.strftime('%H:%M:%S', time.gmtime(int((time.time() - start_time))))\n",
        "            print('Validation set |Loss:{:6.4f} | Accuracy:{:6.4f}|  time elapse: {:>9}'.format(\n",
        "                val_loss,val_acc,elapse))\n",
        "            \n",
        "        if scheduler:\n",
        "          scheduler.step()\n",
        "    model.load_state_dict(best_model_wts)\n",
        "    return model, loss_record, acc_record"
      ],
      "execution_count": null,
      "outputs": []
    },
    {
      "cell_type": "code",
      "metadata": {
        "id": "wJjv8bWRubKw"
      },
      "source": [
        ""
      ],
      "execution_count": null,
      "outputs": []
    },
    {
      "cell_type": "code",
      "metadata": {
        "id": "VkhVoCfVP0Ha",
        "outputId": "b4ae190e-dcfd-4894-8f98-bc010368c39c",
        "colab": {
          "base_uri": "https://localhost:8080/",
          "height": 527
        }
      },
      "source": [
        "rnn_model = GRU(128, 5, len(vocabulary), 128, rnn='GRU').to(device)\n",
        "optimizer = torch.optim.Adam(rnn_model.parameters(), lr=0.01, weight_decay=10**(-2))\n",
        "lambda_func = lambda epoch: 0.85 ** epoch\n",
        "scheduler = optim.lr_scheduler.LambdaLR(optimizer, lr_lambda=lambda_func)\n",
        "bestmodel, loss_record, acc_record = train(rnn_model,scheduler,optimizer,num_epoch = 15)\n"
      ],
      "execution_count": null,
      "outputs": [
        {
          "output_type": "stream",
          "text": [
            "Train set epoch:0 |  epoch Loss:1.3740| epoch accuracy:45.7302\n",
            "Validation set |Loss:1.2763 | Accuracy:49.0000|  time elapse:  00:00:06\n",
            "Train set epoch:1 |  epoch Loss:1.2518| epoch accuracy:50.9178\n",
            "Validation set |Loss:1.3010 | Accuracy:50.0000|  time elapse:  00:00:13\n",
            "Train set epoch:2 |  epoch Loss:1.1996| epoch accuracy:54.3496\n",
            "Validation set |Loss:1.2778 | Accuracy:49.0000|  time elapse:  00:00:19\n",
            "Train set epoch:3 |  epoch Loss:1.1815| epoch accuracy:54.9082\n",
            "Validation set |Loss:1.3054 | Accuracy:49.0000|  time elapse:  00:00:26\n",
            "Train set epoch:4 |  epoch Loss:1.1652| epoch accuracy:56.5044\n",
            "Validation set |Loss:1.2686 | Accuracy:51.0000|  time elapse:  00:00:33\n",
            "Train set epoch:5 |  epoch Loss:1.1084| epoch accuracy:58.5794\n",
            "Validation set |Loss:1.2732 | Accuracy:50.0000|  time elapse:  00:00:39\n",
            "Train set epoch:6 |  epoch Loss:1.1072| epoch accuracy:59.8563\n",
            "Validation set |Loss:1.2062 | Accuracy:51.0000|  time elapse:  00:00:46\n",
            "Train set epoch:7 |  epoch Loss:1.0970| epoch accuracy:59.4573\n",
            "Validation set |Loss:1.1621 | Accuracy:53.0000|  time elapse:  00:00:52\n",
            "Train set epoch:8 |  epoch Loss:1.1056| epoch accuracy:61.0535\n",
            "Validation set |Loss:1.1946 | Accuracy:52.0000|  time elapse:  00:00:59\n",
            "Train set epoch:9 |  epoch Loss:1.0380| epoch accuracy:62.6496\n",
            "Validation set |Loss:1.1322 | Accuracy:55.0000|  time elapse:  00:01:05\n",
            "Train set epoch:10 |  epoch Loss:0.9921| epoch accuracy:63.6872\n",
            "Validation set |Loss:1.1689 | Accuracy:54.0000|  time elapse:  00:01:12\n",
            "Train set epoch:11 |  epoch Loss:1.0047| epoch accuracy:64.0862\n",
            "Validation set |Loss:1.1267 | Accuracy:55.0000|  time elapse:  00:01:18\n",
            "Train set epoch:12 |  epoch Loss:1.0257| epoch accuracy:62.4900\n",
            "Validation set |Loss:1.1710 | Accuracy:53.0000|  time elapse:  00:01:25\n",
            "Train set epoch:13 |  epoch Loss:0.9894| epoch accuracy:65.4429\n",
            "Validation set |Loss:1.1195 | Accuracy:56.0000|  time elapse:  00:01:31\n",
            "Train set epoch:14 |  epoch Loss:0.9494| epoch accuracy:66.3208\n",
            "Validation set |Loss:1.1038 | Accuracy:56.0000|  time elapse:  00:01:38\n"
          ],
          "name": "stdout"
        }
      ]
    },
    {
      "cell_type": "code",
      "metadata": {
        "id": "sdCsNaTeyFdw",
        "outputId": "d9150526-7e62-43a6-a26c-0ccd9a150605",
        "colab": {
          "base_uri": "https://localhost:8080/",
          "height": 282
        }
      },
      "source": [
        "import matplotlib. pyplot as plt\n",
        "Epochlength = 15\n",
        "plt.plot(range(Epochlength),loss_record['train'],label='Train loss')\n",
        "plt.plot(range(Epochlength),loss_record['validate'],label='Validation loss')\n",
        "plt.legend()"
      ],
      "execution_count": null,
      "outputs": [
        {
          "output_type": "execute_result",
          "data": {
            "text/plain": [
              "<matplotlib.legend.Legend at 0x7fb7226ced30>"
            ]
          },
          "metadata": {
            "tags": []
          },
          "execution_count": 33
        },
        {
          "output_type": "display_data",
          "data": {
            "image/png": "[encoded data removed]",
            "text/plain": [
              "<Figure size 432x288 with 1 Axes>"
            ]
          },
          "metadata": {
            "tags": [],
            "needs_background": "light"
          }
        }
      ]
    },
    {
      "cell_type": "code",
      "metadata": {
        "id": "4zeaznVsWM2R",
        "outputId": "b7a20abf-ecea-494b-cbe0-d1d8d6bbc307",
        "colab": {
          "base_uri": "https://localhost:8080/",
          "height": 282
        }
      },
      "source": [
        "plt.plot(range(Epochlength),acc_record['train'],label='Train Accuracy')\n",
        "plt.plot(range(Epochlength),acc_record['validate'],label='Validation Accuracy')\n",
        "plt.legend()"
      ],
      "execution_count": null,
      "outputs": [
        {
          "output_type": "execute_result",
          "data": {
            "text/plain": [
              "<matplotlib.legend.Legend at 0x7fb7225cd748>"
            ]
          },
          "metadata": {
            "tags": []
          },
          "execution_count": 40
        },
        {
          "output_type": "display_data",
          "data": {
            "image/png": "[encoded data removed]",
            "text/plain": [
              "<Figure size 432x288 with 1 Axes>"
            ]
          },
          "metadata": {
            "tags": [],
            "needs_background": "light"
          }
        }
      ]
    },
    {
      "cell_type": "code",
      "metadata": {
        "id": "ceYX7oNVt3im"
      },
      "source": [
        "def evaluate_model(model,dataloader):\n",
        "        loss_fn = nn.CrossEntropyLoss()\n",
        "        running_correct = 0\n",
        "        running_loss = 0 \n",
        "        running_total = 0\n",
        "        model.eval()\n",
        "\n",
        "        predictions = []\n",
        "        truths = []\n",
        "\n",
        "        with torch.no_grad():\n",
        "            for i, (data, data_len, labels) in enumerate(test_loader):\n",
        "                data, data_len, labels = data.to(device), data_len.to(device), labels.to(device)\n",
        "                data = data.long()\n",
        "                outputs = model(data, data_len)\n",
        "                pred = outputs.data.max(-1)[1]\n",
        "                loss = loss_fn(outputs.squeeze(), labels)\n",
        "                predictions += list(pred.cpu().numpy())\n",
        "                truths += list(labels.cpu().numpy())\n",
        "                running_total += labels.size(0)\n",
        "                running_correct += (pred == labels).sum()\n",
        "                running_loss = loss.item()* labels.size(0)\n",
        "                \n",
        "            val_acc = float(100 * running_correct / running_total)\n",
        "            val_loss = float(running_loss/running_total)\n",
        "        return val_acc, val_loss"
      ],
      "execution_count": null,
      "outputs": []
    },
    {
      "cell_type": "code",
      "metadata": {
        "id": "SVV1Xxh4Trjq",
        "outputId": "b619ebcd-034e-4f93-eb08-548b7746af5b",
        "colab": {
          "base_uri": "https://localhost:8080/",
          "height": 34
        }
      },
      "source": [
        "test_acc, test_loss = evaluate_model(bestmodel,test_loader)\n",
        "print('test accuracy is:', test_acc)"
      ],
      "execution_count": null,
      "outputs": [
        {
          "output_type": "stream",
          "text": [
            "test accuracy is: 56.0\n"
          ],
          "name": "stdout"
        }
      ]
    },
    {
      "cell_type": "markdown",
      "metadata": {
        "id": "J9ABOlZ0P0Hd"
      },
      "source": [
        "**3.6) (25 points)** Now, let's finetune a sequence classification model based on BERT. Please install the Huggingface's Transformers library for this. Use the Pretrained 'bert-base-uncased' model for this problem. Please use the BERT tokenizer from the pretrained built for 'bert-base-uncased' model . Use the AdamW optimizer from the transformers library for optimization. Remember BERT uses Attention masks for input so you need to create a separate dataloader for BERT. Please keep in mind that BERT can handle maximum of 512 tokens.\n",
        "\n",
        "**Please finetune the model so that it reaches at least 65% accuracy on the test set.**\n",
        "\n",
        "The rest of your experimental setting should be the same as 3.5:\n",
        "\n",
        "At each epoch, compute and print **Average Cross Entropy loss** and **Accuracy** on both **train and validation set** \n",
        "\n",
        "Plot your validation and train loss over different epochs. \n",
        "\n",
        "Plot your validation and train accuracies over different epochs. \n",
        "\n",
        "Finally print accuracy on the test set."
      ]
    },
    {
      "cell_type": "code",
      "metadata": {
        "id": "I07_x3WtP0Hd",
        "outputId": "c4bd0104-aa3a-4d1d-b676-8bb132783667",
        "colab": {
          "base_uri": "https://localhost:8080/",
          "height": 632
        }
      },
      "source": [
        "%%bash\n",
        "pip install transformers"
      ],
      "execution_count": null,
      "outputs": [
        {
          "output_type": "stream",
          "text": [
            "Collecting transformers\n",
            "  Downloading https://files.pythonhosted.org/packages/a3/78/92cedda05552398352ed9784908b834ee32a0bd071a9b32de287327370b7/transformers-2.8.0-py3-none-any.whl (563kB)\n",
            "Requirement already satisfied: filelock in /usr/local/lib/python3.6/dist-packages (from transformers) (3.0.12)\n",
            "Collecting sentencepiece\n",
            "  Downloading https://files.pythonhosted.org/packages/74/f4/2d5214cbf13d06e7cb2c20d84115ca25b53ea76fa1f0ade0e3c9749de214/sentencepiece-0.1.85-cp36-cp36m-manylinux1_x86_64.whl (1.0MB)\n",
            "Requirement already satisfied: tqdm>=4.27 in /usr/local/lib/python3.6/dist-packages (from transformers) (4.38.0)\n",
            "Requirement already satisfied: numpy in /usr/local/lib/python3.6/dist-packages (from transformers) (1.18.2)\n",
            "Requirement already satisfied: requests in /usr/local/lib/python3.6/dist-packages (from transformers) (2.21.0)\n",
            "Collecting tokenizers==0.5.2\n",
            "  Downloading https://files.pythonhosted.org/packages/d1/3f/73c881ea4723e43c1e9acf317cf407fab3a278daab3a69c98dcac511c04f/tokenizers-0.5.2-cp36-cp36m-manylinux1_x86_64.whl (3.7MB)\n",
            "Requirement already satisfied: regex!=2019.12.17 in /usr/local/lib/python3.6/dist-packages (from transformers) (2019.12.20)\n",
            "Requirement already satisfied: boto3 in /usr/local/lib/python3.6/dist-packages (from transformers) (1.12.38)\n",
            "Collecting sacremoses\n",
            "  Downloading https://files.pythonhosted.org/packages/99/50/93509f906a40bffd7d175f97fd75ea328ad9bd91f48f59c4bd084c94a25e/sacremoses-0.0.41.tar.gz (883kB)\n",
            "Requirement already satisfied: dataclasses; python_version < \"3.7\" in /usr/local/lib/python3.6/dist-packages (from transformers) (0.7)\n",
            "Requirement already satisfied: chardet<3.1.0,>=3.0.2 in /usr/local/lib/python3.6/dist-packages (from requests->transformers) (3.0.4)\n",
            "Requirement already satisfied: urllib3<1.25,>=1.21.1 in /usr/local/lib/python3.6/dist-packages (from requests->transformers) (1.24.3)\n",
            "Requirement already satisfied: certifi>=2017.4.17 in /usr/local/lib/python3.6/dist-packages (from requests->transformers) (2020.4.5.1)\n",
            "Requirement already satisfied: idna<2.9,>=2.5 in /usr/local/lib/python3.6/dist-packages (from requests->transformers) (2.8)\n",
            "Requirement already satisfied: s3transfer<0.4.0,>=0.3.0 in /usr/local/lib/python3.6/dist-packages (from boto3->transformers) (0.3.3)\n",
            "Requirement already satisfied: jmespath<1.0.0,>=0.7.1 in /usr/local/lib/python3.6/dist-packages (from boto3->transformers) (0.9.5)\n",
            "Requirement already satisfied: botocore<1.16.0,>=1.15.38 in /usr/local/lib/python3.6/dist-packages (from boto3->transformers) (1.15.38)\n",
            "Requirement already satisfied: six in /usr/local/lib/python3.6/dist-packages (from sacremoses->transformers) (1.12.0)\n",
            "Requirement already satisfied: click in /usr/local/lib/python3.6/dist-packages (from sacremoses->transformers) (7.1.1)\n",
            "Requirement already satisfied: joblib in /usr/local/lib/python3.6/dist-packages (from sacremoses->transformers) (0.14.1)\n",
            "Requirement already satisfied: docutils<0.16,>=0.10 in /usr/local/lib/python3.6/dist-packages (from botocore<1.16.0,>=1.15.38->boto3->transformers) (0.15.2)\n",
            "Requirement already satisfied: python-dateutil<3.0.0,>=2.1 in /usr/local/lib/python3.6/dist-packages (from botocore<1.16.0,>=1.15.38->boto3->transformers) (2.8.1)\n",
            "Building wheels for collected packages: sacremoses\n",
            "  Building wheel for sacremoses (setup.py): started\n",
            "  Building wheel for sacremoses (setup.py): finished with status 'done'\n",
            "  Created wheel for sacremoses: filename=sacremoses-0.0.41-cp36-none-any.whl size=893334 sha256=cef719763013e30ed0b08649b23b24654dbd40622ca97bbd8cde260f430bf323\n",
            "  Stored in directory: /root/.cache/pip/wheels/22/5a/d4/b020a81249de7dc63758a34222feaa668dbe8ebfe9170cc9b1\n",
            "Successfully built sacremoses\n",
            "Installing collected packages: sentencepiece, tokenizers, sacremoses, transformers\n",
            "Successfully installed sacremoses-0.0.41 sentencepiece-0.1.85 tokenizers-0.5.2 transformers-2.8.0\n"
          ],
          "name": "stdout"
        }
      ]
    },
    {
      "cell_type": "markdown",
      "metadata": {
        "id": "9zg6VU_Q3WZ7"
      },
      "source": [
        "<font color=red>Code borrowed from  BERT Fine-Tuning Tutorial with PyTorch\n",
        "22 Jul 2019\n",
        "By Chris McCormick and Nick Ryan </font>"
      ]
    },
    {
      "cell_type": "code",
      "metadata": {
        "id": "HZ4OpP874RaM",
        "outputId": "8df9735f-8ce6-4b87-bf6d-ab6d6ea74169",
        "colab": {
          "base_uri": "https://localhost:8080/",
          "height": 66,
          "referenced_widgets": [
            "49aa8e13714a42fb9aeca844c4134272",
            "3c808114ee3d4a90a0172c4de1f511fc",
            "5dfcdaeb4fbf4fa0863c8de43467ae02",
            "0da885da6366444db1e2d54b6a223c8a",
            "707dc124d2a846ae977ade2cac4f6ef9",
            "555709733543436eb57a5bbc7a04ebf7",
            "dcf58a4dabb942e2a14437a49b198610",
            "c135035c0ef84630bb1aabe577b85bbf"
          ]
        }
      },
      "source": [
        "from transformers import BertTokenizer\n",
        "tokenizer = BertTokenizer.from_pretrained('bert-base-uncased', do_lower_case=True)"
      ],
      "execution_count": null,
      "outputs": [
        {
          "output_type": "display_data",
          "data": {
            "application/vnd.jupyter.widget-view+json": {
              "model_id": "49aa8e13714a42fb9aeca844c4134272",
              "version_minor": 0,
              "version_major": 2
            },
            "text/plain": [
              "HBox(children=(IntProgress(value=0, description='Downloading', max=231508, style=ProgressStyle(description_wid…"
            ]
          },
          "metadata": {
            "tags": []
          }
        },
        {
          "output_type": "stream",
          "text": [
            "\n"
          ],
          "name": "stdout"
        }
      ]
    },
    {
      "cell_type": "code",
      "metadata": {
        "id": "ZkSV_vKA6CD7",
        "outputId": "d9c9f96e-e046-4c6b-82b2-d4b305298776",
        "colab": {
          "base_uri": "https://localhost:8080/",
          "height": 204
        }
      },
      "source": [
        "train_all.head()"
      ],
      "execution_count": null,
      "outputs": [
        {
          "output_type": "execute_result",
          "data": {
            "text/html": [
              "<div>\n",
              "<style scoped>\n",
              "    .dataframe tbody tr th:only-of-type {\n",
              "        vertical-align: middle;\n",
              "    }\n",
              "\n",
              "    .dataframe tbody tr th {\n",
              "        vertical-align: top;\n",
              "    }\n",
              "\n",
              "    .dataframe thead th {\n",
              "        text-align: right;\n",
              "    }\n",
              "</style>\n",
              "<table border=\"1\" class=\"dataframe\">\n",
              "  <thead>\n",
              "    <tr style=\"text-align: right;\">\n",
              "      <th></th>\n",
              "      <th>transcription</th>\n",
              "      <th>medical_specialty</th>\n",
              "    </tr>\n",
              "  </thead>\n",
              "  <tbody>\n",
              "    <tr>\n",
              "      <th>208</th>\n",
              "      <td>PROCEDURE:,  Upper endoscopy with removal of f...</td>\n",
              "      <td>0</td>\n",
              "    </tr>\n",
              "    <tr>\n",
              "      <th>4816</th>\n",
              "      <td>ENDOVASCULAR BRACHYTHERAPY (EBT),The patient i...</td>\n",
              "      <td>2</td>\n",
              "    </tr>\n",
              "    <tr>\n",
              "      <th>877</th>\n",
              "      <td>PREOPERATIVE DIAGNOSIS: , Blood loss anemia.,P...</td>\n",
              "      <td>0</td>\n",
              "    </tr>\n",
              "    <tr>\n",
              "      <th>4136</th>\n",
              "      <td>REASON FOR CONSULTATION:, Please evaluate stom...</td>\n",
              "      <td>1</td>\n",
              "    </tr>\n",
              "    <tr>\n",
              "      <th>718</th>\n",
              "      <td>PREOPERATIVE DIAGNOSIS: , Endometrial cancer.,...</td>\n",
              "      <td>0</td>\n",
              "    </tr>\n",
              "  </tbody>\n",
              "</table>\n",
              "</div>"
            ],
            "text/plain": [
              "                                          transcription  medical_specialty\n",
              "208   PROCEDURE:,  Upper endoscopy with removal of f...                  0\n",
              "4816  ENDOVASCULAR BRACHYTHERAPY (EBT),The patient i...                  2\n",
              "877   PREOPERATIVE DIAGNOSIS: , Blood loss anemia.,P...                  0\n",
              "4136  REASON FOR CONSULTATION:, Please evaluate stom...                  1\n",
              "718   PREOPERATIVE DIAGNOSIS: , Endometrial cancer.,...                  0"
            ]
          },
          "metadata": {
            "tags": []
          },
          "execution_count": 173
        }
      ]
    },
    {
      "cell_type": "code",
      "metadata": {
        "id": "g5CmpFWNGW8N",
        "outputId": "dc1fc2ef-6449-4023-8da3-91048ab2bb4a",
        "colab": {
          "base_uri": "https://localhost:8080/",
          "height": 34
        }
      },
      "source": [
        "import gc\n",
        "gc.collect()\n"
      ],
      "execution_count": null,
      "outputs": [
        {
          "output_type": "execute_result",
          "data": {
            "text/plain": [
              "222"
            ]
          },
          "metadata": {
            "tags": []
          },
          "execution_count": 29
        }
      ]
    },
    {
      "cell_type": "code",
      "metadata": {
        "id": "Xzik72uyNPUT"
      },
      "source": [
        "del df\n",
        "del df2\n",
        "del train_data\n",
        "del validation_data\n",
        "del test_data\n",
        "del train_all"
      ],
      "execution_count": null,
      "outputs": []
    },
    {
      "cell_type": "code",
      "metadata": {
        "id": "DI5_WK_cs4lq"
      },
      "source": [
        "sentences=[]\n",
        "labels=[]"
      ],
      "execution_count": null,
      "outputs": []
    },
    {
      "cell_type": "code",
      "metadata": {
        "id": "nbeLirZ06HTS"
      },
      "source": [
        "sentences[:] = train_all.transcription.values\n",
        "labels[:] = train_all.medical_specialty.values"
      ],
      "execution_count": null,
      "outputs": []
    },
    {
      "cell_type": "code",
      "metadata": {
        "id": "oIM0CATFDSzL"
      },
      "source": [
        "import re\n",
        "\n",
        "# split into 200 word per chunk with 50 words overloap\n",
        "def sentence_split(text1):\n",
        "  l_total = []\n",
        "  l_parcial = []\n",
        "  if len(text1.split())//150 >0:\n",
        "    n = len(text1.split())//150\n",
        "  else: \n",
        "    n = 1\n",
        "  for w in range(n):\n",
        "    if w == 0:\n",
        "      l_parcial = text1.split()[:200]\n",
        "      l_total.append(\" \".join(l_parcial))\n",
        "    else:\n",
        "      l_parcial = text1.split()[w*150:w*150 + 200]\n",
        "      l_total.append(\" \".join(l_parcial))\n",
        "  #print(n)\n",
        "  return l_total\n",
        "\n",
        "def cleantext(sentences):\n",
        "    sentence_cleaned[:] = sentences\n",
        "    for i in range(len(sentence_cleaned)):\n",
        "        sentence_cleaned[i] = str(sentences[i])\n",
        "        sentence_cleaned[i] = re.sub('[\\\\(\\[#.!?,\\'\\/\\])0-9]', ' ', sentence_cleaned[i])\n",
        "        sentence_cleaned[i] = sentence_split(sentence_cleaned[i])\n",
        "    return sentence_cleaned\n",
        "        "
      ],
      "execution_count": null,
      "outputs": []
    },
    {
      "cell_type": "code",
      "metadata": {
        "id": "4N3KWE4T8_6b"
      },
      "source": [
        "sentence_cleaned=[]\n",
        "sentence_cleaned = cleantext(sentences)"
      ],
      "execution_count": null,
      "outputs": []
    },
    {
      "cell_type": "code",
      "metadata": {
        "id": "vLLtSMTboSy1"
      },
      "source": [
        "Flattened_sentence = []\n",
        "Flattened_label = []\n",
        "for i in range(len(sentence_cleaned)):\n",
        "  for j in range(len(sentence_cleaned[i])):\n",
        "    Flattened_sentence.append(sentence_cleaned[i][j])\n",
        "    Flattened_label.append(labels[i])"
      ],
      "execution_count": null,
      "outputs": []
    },
    {
      "cell_type": "code",
      "metadata": {
        "id": "PI4y41bPzSmu",
        "outputId": "4004bd90-b1e8-4193-a8c3-8e6863e7cce8",
        "colab": {
          "base_uri": "https://localhost:8080/",
          "height": 34
        }
      },
      "source": [
        "max_len = 0\n",
        "\n",
        "# For every sentence...\n",
        "for sent in Flattened_sentence:\n",
        "\n",
        "    # Tokenize the text and add `[CLS]` and `[SEP]` tokens.\n",
        "    input_ids = tokenizer.encode(sent, add_special_tokens=True)\n",
        "\n",
        "    # Update the maximum sentence length.\n",
        "    max_len = max(max_len, len(input_ids))\n",
        "\n",
        "print('Max sentence length: ', max_len)"
      ],
      "execution_count": null,
      "outputs": [
        {
          "output_type": "stream",
          "text": [
            "Max sentence length:  361\n"
          ],
          "name": "stdout"
        }
      ]
    },
    {
      "cell_type": "code",
      "metadata": {
        "id": "jSKtmWQV2gyp"
      },
      "source": [
        "def Berttokenize(sentences, labels):\n",
        "  # Tokenize all of the sentences and map the tokens to thier word IDs.\n",
        "  input_ids = []\n",
        "  attention_masks = []\n",
        "\n",
        "  # For every sentence...\n",
        "  for sent in sentences:\n",
        "      # `encode_plus` will:\n",
        "      #   (1) Tokenize the sentence.\n",
        "      #   (2) Prepend the `[CLS]` token to the start.\n",
        "      #   (3) Append the `[SEP]` token to the end.\n",
        "      #   (4) Map tokens to their IDs.\n",
        "      #   (5) Pad or truncate the sentence to `max_length`\n",
        "      #   (6) Create attention masks for [PAD] tokens.\n",
        "      encoded_dict = tokenizer.encode_plus(\n",
        "                          sent,                      # Sentence to encode.\n",
        "                          add_special_tokens = True, # Add '[CLS]' and '[SEP]'\n",
        "                          max_length = 400,           # Pad & truncate all sentences.\n",
        "                          pad_to_max_length = True,\n",
        "                          return_attention_mask = True,   # Construct attn. masks.\n",
        "                          return_tensors = 'pt',     # Return pytorch tensors.\n",
        "                    )\n",
        "      \n",
        "      # Add the encoded sentence to the list.    \n",
        "      input_ids.append(encoded_dict['input_ids'])\n",
        "      \n",
        "      # And its attention mask (simply differentiates padding from non-padding).\n",
        "      attention_masks.append(encoded_dict['attention_mask'])\n",
        "\n",
        "  # Convert the lists into tensors.\n",
        "  input_ids = torch.cat(input_ids, dim=0)\n",
        "  attention_masks = torch.cat(attention_masks, dim=0)\n",
        "  labels = torch.tensor(labels)\n",
        "  return input_ids, attention_masks, labels \n",
        "\n"
      ],
      "execution_count": null,
      "outputs": []
    },
    {
      "cell_type": "code",
      "metadata": {
        "id": "kb8Ta2YfPCNY",
        "outputId": "d439fdea-82e5-4a0f-aa4e-2d79d6be56e8",
        "colab": {
          "base_uri": "https://localhost:8080/",
          "height": 734
        }
      },
      "source": [
        "# Print sentence 0, now as a list of IDs.\n",
        "input_ids, attention_masks, labels = Berttokenize(Flattened_sentence,Flattened_label)\n",
        "print('Original: ', Flattened_sentence[0])\n",
        "print('Token IDs:', input_ids[0])"
      ],
      "execution_count": null,
      "outputs": [
        {
          "output_type": "stream",
          "text": [
            "Original:  PREOPERATIVE DIAGNOSIS: Empyema of the chest left POSTOPERATIVE DIAGNOSIS: Empyema of the chest left PROCEDURE: Left thoracotomy with total pulmonary decortication and parietal pleurectomy PROCEDURE DETAIL: After obtaining the informed consent the patient was brought to the operating room where he underwent a general endotracheal anesthetic using a double-lumen endotracheal tube A time-out process had been followed and preoperative antibiotics were given The patient was positioned with the left side up for a left thoracotomy The patient was prepped and draped in the usual fashion A posterolateral thoracotomy was performed It included the previous incision The chest was entered through the fifth intercostal space Actually there was a very strong and hard parietal pleura which initially did not allow us to obtain a good exposure and actually the layer was so tough that the pin of the chest retractor broke Thanks to Dr X s ingenuity we were able to reuse the chest retractor and opened the chest after I incised the thickened parietal pleura resulting in an explosion of gas and pus from a cavity that was obviously welled off by the parietal pleura We aspirated an abundant amount of pus from this cavity The sample was taken for\n",
            "Token IDs: tensor([  101,  3653, 25918,  8082, 11616,  1024,  7861,  7685, 14545,  1997,\n",
            "         1996,  3108,  2187,  2695, 25918,  8082, 11616,  1024,  7861,  7685,\n",
            "        14545,  1997,  1996,  3108,  2187,  7709,  1024,  2187, 15321, 22684,\n",
            "        20389,  2100,  2007,  2561, 21908, 25545, 22723,  3508,  1998, 11968,\n",
            "         2666,  9080, 20228, 11236, 22471, 16940,  7709,  6987,  1024,  2044,\n",
            "        11381,  1996,  6727,  9619,  1996,  5776,  2001,  2716,  2000,  1996,\n",
            "         4082,  2282,  2073,  2002,  9601,  1037,  2236,  2203,  4140, 22648,\n",
            "        20192,  2140,  2019,  4355, 20086,  2478,  1037,  3313,  1011, 11320,\n",
            "         3549,  2203,  4140, 22648, 20192,  2140,  7270,  1037,  2051,  1011,\n",
            "         2041,  2832,  2018,  2042,  2628,  1998,  3653, 25918,  8082, 24479,\n",
            "         2020,  2445,  1996,  5776,  2001, 10959,  2007,  1996,  2187,  2217,\n",
            "         2039,  2005,  1037,  2187, 15321, 22684, 20389,  2100,  1996,  5776,\n",
            "         2001, 17463,  5669,  1998, 15098,  1999,  1996,  5156,  4827,  1037,\n",
            "        13082, 19425,  7941, 15321, 22684, 20389,  2100,  2001,  2864,  2009,\n",
            "         2443,  1996,  3025,  4297, 19969,  1996,  3108,  2001,  3133,  2083,\n",
            "         1996,  3587,  6970, 13186,  9080,  2686,  2941,  2045,  2001,  1037,\n",
            "         2200,  2844,  1998,  2524, 11968,  2666,  9080, 20228, 11236,  2050,\n",
            "         2029,  3322,  2106,  2025,  3499,  2149,  2000,  6855,  1037,  2204,\n",
            "         7524,  1998,  2941,  1996,  6741,  2001,  2061,  7823,  2008,  1996,\n",
            "         9231,  1997,  1996,  3108,  2128,  6494, 16761,  3631,  4283,  2000,\n",
            "         2852,  1060,  1055, 13749,  2368, 18518,  2057,  2020,  2583,  2000,\n",
            "         2128,  8557,  1996,  3108,  2128,  6494, 16761,  1998,  2441,  1996,\n",
            "         3108,  2044,  1045,  4297,  5084,  1996,  4317,  6675, 11968,  2666,\n",
            "         9080, 20228, 11236,  2050,  4525,  1999,  2019,  7738,  1997,  3806,\n",
            "         1998, 16405,  2015,  2013,  1037, 17790,  2008,  2001,  5525,  2092,\n",
            "         2098,  2125,  2011,  1996, 11968,  2666,  9080, 20228, 11236,  2050,\n",
            "         2057,  2004,  8197,  9250,  2019, 12990,  3815,  1997, 16405,  2015,\n",
            "         2013,  2023, 17790,  1996,  7099,  2001,  2579,  2005,   102,     0,\n",
            "            0,     0,     0,     0,     0,     0,     0,     0,     0,     0,\n",
            "            0,     0,     0,     0,     0,     0,     0,     0,     0,     0,\n",
            "            0,     0,     0,     0,     0,     0,     0,     0,     0,     0,\n",
            "            0,     0,     0,     0,     0,     0,     0,     0,     0,     0,\n",
            "            0,     0,     0,     0,     0,     0,     0,     0,     0,     0,\n",
            "            0,     0,     0,     0,     0,     0,     0,     0,     0,     0,\n",
            "            0,     0,     0,     0,     0,     0,     0,     0,     0,     0,\n",
            "            0,     0,     0,     0,     0,     0,     0,     0,     0,     0,\n",
            "            0,     0,     0,     0,     0,     0,     0,     0,     0,     0,\n",
            "            0,     0,     0,     0,     0,     0,     0,     0,     0,     0,\n",
            "            0,     0,     0,     0,     0,     0,     0,     0,     0,     0,\n",
            "            0,     0,     0,     0,     0,     0,     0,     0,     0,     0])\n"
          ],
          "name": "stdout"
        }
      ]
    },
    {
      "cell_type": "code",
      "metadata": {
        "id": "j94shM62_mWC",
        "outputId": "09a3ccf4-3966-4e44-9777-c2f9bca680ad",
        "colab": {
          "base_uri": "https://localhost:8080/",
          "height": 51
        }
      },
      "source": [
        "print(len(input_ids))\n",
        "print"
      ],
      "execution_count": null,
      "outputs": [
        {
          "output_type": "stream",
          "text": [
            "4158\n"
          ],
          "name": "stdout"
        },
        {
          "output_type": "execute_result",
          "data": {
            "text/plain": [
              "<function print>"
            ]
          },
          "metadata": {
            "tags": []
          },
          "execution_count": 24
        }
      ]
    },
    {
      "cell_type": "code",
      "metadata": {
        "id": "VMt3TaoM5SEq"
      },
      "source": [
        "from torch.utils.data import TensorDataset\n",
        "\n",
        "# Combine the training inputs into a TensorDataset.\n",
        "dataset = TensorDataset(input_ids, attention_masks, labels)\n",
        "\n",
        "Bert_train_data,Bert_validation_data = train_test_split(dataset,test_size = 0.25, random_state=2020)\n"
      ],
      "execution_count": null,
      "outputs": []
    },
    {
      "cell_type": "code",
      "metadata": {
        "id": "Iu3riTY7_8iv"
      },
      "source": [
        "from torch.utils.data import DataLoader\n",
        "batch_size = 10\n",
        "\n",
        "Bert_train_dataloader = DataLoader(\n",
        "            Bert_train_data,  \n",
        "            shuffle=True,\n",
        "            batch_size = batch_size \n",
        "        )\n",
        "\n",
        "Bert_valid_dataloader = DataLoader(\n",
        "            Bert_validation_data,\n",
        "            shuffle=True,\n",
        "            batch_size = batch_size \n",
        "        )"
      ],
      "execution_count": null,
      "outputs": []
    },
    {
      "cell_type": "code",
      "metadata": {
        "id": "75X2GLjbGyyd"
      },
      "source": [
        "sample = next(iter(Bert_train_dataloader))"
      ],
      "execution_count": null,
      "outputs": []
    },
    {
      "cell_type": "code",
      "metadata": {
        "id": "f4-P9ErxBCOu"
      },
      "source": [
        "from transformers import BertForSequenceClassification, AdamW, BertConfig\n",
        "\n",
        "model = BertForSequenceClassification.from_pretrained(\n",
        "    \"bert-base-uncased\", # Use the 12-layer BERT model, with an uncased vocab.\n",
        "    num_labels = 5,   \n",
        "    output_attentions = False, # Whether the model returns attentions weights.\n",
        "    output_hidden_states = False, # Whether the model returns all hidden-states.\n",
        ")\n",
        "model.cuda()"
      ],
      "execution_count": null,
      "outputs": []
    },
    {
      "cell_type": "code",
      "metadata": {
        "id": "FLvRaVxNB7Vn"
      },
      "source": [
        "optimizer = AdamW(model.parameters(),\n",
        "                  lr = 1e-4, # args.learning_rate - default is 5e-5, our notebook had 2e-5\n",
        "                  eps = 1e-8, # args.adam_epsilon  - default is 1e-8.,\n",
        "                  weight_decay = 0\n",
        "                )\n",
        "from transformers import get_linear_schedule_with_warmup\n",
        "\n",
        "# Number of training epochs. The BERT authors recommend between 2 and 4. \n",
        "# We chose to run for 4, but we'll see later that this may be over-fitting the\n",
        "# training data.\n",
        "epochs = 2\n",
        "\n",
        "# Total number of training steps is [number of batches] x [number of epochs]. \n",
        "# (Note that this is not the same as the number of training samples).\n",
        "total_steps = len(Bert_train_dataloader) * epochs\n",
        "\n",
        "# Create the learning rate scheduler.\n",
        "scheduler = get_linear_schedule_with_warmup(optimizer, \n",
        "                                            num_warmup_steps = 0, # Default value in run_glue.py\n",
        "                                            num_training_steps = total_steps)"
      ],
      "execution_count": null,
      "outputs": []
    },
    {
      "cell_type": "code",
      "metadata": {
        "id": "4sezBLLTIQJL"
      },
      "source": [
        "import numpy as np\n",
        "\n",
        "import time\n",
        "import datetime\n",
        "\n",
        "def format_time(elapsed):\n",
        "    '''\n",
        "    Takes a time in seconds and returns a string hh:mm:ss\n",
        "    '''\n",
        "    # Round to the nearest second.\n",
        "    elapsed_rounded = int(round((elapsed)))\n",
        "    \n",
        "    # Format as hh:mm:ss\n",
        "    return str(datetime.timedelta(seconds=elapsed_rounded))\n",
        "\n",
        "def flat_accuracy(preds, labels):\n",
        "    pred_flat = np.argmax(preds, axis=1).flatten()\n",
        "    labels_flat = labels.flatten()\n",
        "    return np.sum(pred_flat == labels_flat) / len(labels_flat)\n",
        "\n",
        "def Bert_training_loop(model, scheduler, optimizer, train_dataloader, validation_dataloader, epochs=10):\n",
        "\n",
        "  training_stats = []\n",
        "\n",
        "  # Measure the total training time for the whole run.\n",
        "  total_t0 = time.time()\n",
        "\n",
        "  # For each epoch...\n",
        "  for epoch_i in range(0, epochs):\n",
        "      \n",
        "      #========\n",
        "      # Training\n",
        "      # =======\n",
        "      print(\"\")\n",
        "      print('======== Epoch {:} / {:} ========'.format(epoch_i + 1, epochs))\n",
        "      print('Training...')\n",
        "\n",
        "      # Measure how long the training epoch takes.\n",
        "      t0 = time.time()\n",
        "\n",
        "      # Reset the total loss for this epoch.\n",
        "      total_train_loss = 0\n",
        "      total_train_accuracy = 0\n",
        "      nb_train_steps = 0\n",
        "\n",
        "      model.train()\n",
        "\n",
        "      # For each batch of training data...\n",
        "      for step, batch in enumerate(train_dataloader):\n",
        "\n",
        "          # Progress update every 40 batches.\n",
        "          if step % 40 == 0 and not step == 0:\n",
        "              # Calculate elapsed time in minutes.\n",
        "              elapsed = format_time(time.time() - t0)\n",
        "              \n",
        "              # Report progress.\n",
        "              print('  Batch {:>5,}  of  {:>5,}.    Elapsed: {:}.'.format(step, len(train_dataloader), elapsed))\n",
        "\n",
        "          # Unpack this training batch from our dataloader. \n",
        "        \n",
        "          b_input_ids = batch[0].to(device)\n",
        "          b_input_mask = batch[1].to(device)\n",
        "          b_labels = batch[2].to(device)\n",
        "\n",
        "          model.zero_grad()        \n",
        "          loss, logits = model(b_input_ids, \n",
        "                              token_type_ids=None, \n",
        "                              attention_mask=b_input_mask, \n",
        "                              labels=b_labels)\n",
        "\n",
        "          total_train_loss += loss.item()\n",
        "          loss.backward()\n",
        "\n",
        "          # Clip the norm of the gradients to 1.0.\n",
        "          # This is to help prevent the \"exploding gradients\" problem.\n",
        "          torch.nn.utils.clip_grad_norm_(model.parameters(), 1.0)\n",
        "\n",
        "          optimizer.step()\n",
        "          scheduler.step()\n",
        "          # Move logits and labels to CPU\n",
        "          logits = logits.detach().cpu().numpy()\n",
        "          label_ids = b_labels.to('cpu').numpy()\n",
        "\n",
        "          total_train_accuracy += flat_accuracy(logits, label_ids)\n",
        "          \n",
        "\n",
        "      # Report the final accuracy for this validation run.\n",
        "      avg_train_accuracy = total_train_accuracy / len(train_dataloader)\n",
        "      # Calculate the average loss over all of the batches.\n",
        "      avg_train_loss = total_train_loss / len(train_dataloader)            \n",
        "      \n",
        "      # Measure how long this epoch took.\n",
        "      training_time = format_time(time.time() - t0)\n",
        "\n",
        "      print(\"\")\n",
        "      print(\"  Accuracy: {0:.2f}\".format(avg_train_accuracy))\n",
        "      print(\"  Average training loss: {0:.2f}\".format(avg_train_loss))\n",
        "      print(\"  Training epcoh took: {:}\".format(training_time))\n",
        "     # ============\n",
        "     # Validation\n",
        "     # ===========\n",
        "      print(\"\")\n",
        "      print(\"Running Validation...\")\n",
        "\n",
        "      t0 = time.time()\n",
        "\n",
        "    \n",
        "      model.eval()\n",
        "\n",
        "      total_eval_accuracy = 0\n",
        "      total_eval_loss = 0\n",
        "      nb_eval_steps = 0\n",
        "\n",
        "      # Evaluate data for one epoch\n",
        "      for batch in validation_dataloader:\n",
        "          \n",
        "          b_input_ids = batch[0].to(device)\n",
        "          b_input_mask = batch[1].to(device)\n",
        "          b_labels = batch[2].to(device)\n",
        "          \n",
        "          \n",
        "          with torch.no_grad():        \n",
        "\n",
        "              (loss, logits) = model(b_input_ids, \n",
        "                                    token_type_ids=None, \n",
        "                                    attention_mask=b_input_mask,\n",
        "                                    labels=b_labels)\n",
        "              \n",
        "          # Accumulate the validation loss.\n",
        "          total_eval_loss += loss.item()\n",
        "\n",
        "          # Move logits and labels to CPU\n",
        "          logits = logits.detach().cpu().numpy()\n",
        "          label_ids = b_labels.to('cpu').numpy()\n",
        "\n",
        "        \n",
        "          total_eval_accuracy += flat_accuracy(logits, label_ids)\n",
        "          \n",
        "\n",
        "      # Report the final accuracy for this validation run.\n",
        "      avg_val_accuracy = total_eval_accuracy / len(validation_dataloader)\n",
        "      print(\"  Accuracy: {0:.2f}\".format(avg_val_accuracy))\n",
        "\n",
        "      # Calculate the average loss over all of the batches.\n",
        "      avg_val_loss = total_eval_loss / len(validation_dataloader)\n",
        "      \n",
        "      # Measure how long the validation run took.\n",
        "      validation_time = format_time(time.time() - t0)\n",
        "      \n",
        "      print(\"  Validation Loss: {0:.2f}\".format(avg_val_loss))\n",
        "      print(\"  Validation took: {:}\".format(validation_time))\n",
        "\n",
        "      # Record all statistics from this epoch.\n",
        "      training_stats.append(\n",
        "          {\n",
        "              'epoch': epoch_i + 1,\n",
        "              'Training Loss': avg_train_loss,\n",
        "              'Training Accur': avg_train_accuracy,\n",
        "              'Valid. Loss': avg_val_loss,\n",
        "              'Valid. Accur.': avg_val_accuracy,\n",
        "              'Training Time': training_time,\n",
        "              'Validation Time': validation_time\n",
        "          }\n",
        "      )\n",
        "\n",
        "  print(\"\")\n",
        "  print(\"Training complete!\")\n",
        "\n",
        "  print(\"Total training took {:} (h:mm:ss)\".format(format_time(time.time()-total_t0)))\n",
        "  return model, training_stats"
      ],
      "execution_count": null,
      "outputs": []
    },
    {
      "cell_type": "code",
      "metadata": {
        "id": "Xv49PuV-CG3y",
        "outputId": "cc608c58-bb52-40ae-ab14-b925920f66b9",
        "colab": {
          "base_uri": "https://localhost:8080/",
          "height": 544
        }
      },
      "source": [
        "fintuned_model, record = Bert_training_loop(model,scheduler,optimizer,train_dataloader=Bert_train_dataloader,\n",
        "                                                         validation_dataloader=Bert_valid_dataloader, epochs = epochs)"
      ],
      "execution_count": null,
      "outputs": [
        {
          "output_type": "stream",
          "text": [
            "\n",
            "======== Epoch 1 / 2 ========\n",
            "Training...\n",
            "  Batch    40  of     82.    Elapsed: 0:00:59.\n",
            "  Batch    80  of     82.    Elapsed: 0:01:58.\n",
            "\n",
            "  Accuracy: 0.58\n",
            "  Average training loss: 0.98\n",
            "  Training epcoh took: 0:02:01\n",
            "\n",
            "Running Validation...\n",
            "  Accuracy: 0.71\n",
            "  Validation Loss: 0.69\n",
            "  Validation took: 0:00:14\n",
            "\n",
            "======== Epoch 2 / 2 ========\n",
            "Training...\n",
            "  Batch    40  of     82.    Elapsed: 0:00:59.\n",
            "  Batch    80  of     82.    Elapsed: 0:01:58.\n",
            "\n",
            "  Accuracy: 0.67\n",
            "  Average training loss: 0.69\n",
            "  Training epcoh took: 0:02:00\n",
            "\n",
            "Running Validation...\n",
            "  Accuracy: 0.63\n",
            "  Validation Loss: 0.68\n",
            "  Validation took: 0:00:14\n",
            "\n",
            "Training complete!\n",
            "Total training took 0:04:28 (h:mm:ss)\n"
          ],
          "name": "stdout"
        }
      ]
    },
    {
      "cell_type": "code",
      "metadata": {
        "id": "rJqZUHm6q1ms",
        "outputId": "9b4a12ca-aea7-4583-fbf4-032b09a25653",
        "colab": {
          "base_uri": "https://localhost:8080/",
          "height": 255
        }
      },
      "source": [
        "record"
      ],
      "execution_count": null,
      "outputs": [
        {
          "output_type": "execute_result",
          "data": {
            "text/plain": [
              "[{'Training Accur': 0.5786585365853659,\n",
              "  'Training Loss': 0.9787513268430058,\n",
              "  'Training Time': '0:02:01',\n",
              "  'Valid. Accur.': 0.7107142857142857,\n",
              "  'Valid. Loss': 0.6857812793127128,\n",
              "  'Validation Time': '0:00:14',\n",
              "  'epoch': 1},\n",
              " {'Training Accur': 0.6719512195121953,\n",
              "  'Training Loss': 0.692600577706244,\n",
              "  'Training Time': '0:02:00',\n",
              "  'Valid. Accur.': 0.6285714285714287,\n",
              "  'Valid. Loss': 0.6794883672680173,\n",
              "  'Validation Time': '0:00:14',\n",
              "  'epoch': 2}]"
            ]
          },
          "metadata": {
            "tags": []
          },
          "execution_count": 67
        }
      ]
    },
    {
      "cell_type": "code",
      "metadata": {
        "id": "Bb7nJkVc1MnV",
        "outputId": "397a3ed6-247c-425a-8ff7-f6fde8ee591d",
        "colab": {
          "base_uri": "https://localhost:8080/",
          "height": 282
        }
      },
      "source": [
        "import matplotlib. pyplot as plt\n",
        "epoch = [1,2]\n",
        "plt.plot(epoch,[0.5787,0.6720],label='Training Accuracy')\n",
        "plt.plot(epoch,[0.7107,0.6286],label ='Validation Accuracy')\n",
        "plt.legend()"
      ],
      "execution_count": null,
      "outputs": [
        {
          "output_type": "execute_result",
          "data": {
            "text/plain": [
              "<matplotlib.legend.Legend at 0x7f9508a2b358>"
            ]
          },
          "metadata": {
            "tags": []
          },
          "execution_count": 70
        },
        {
          "output_type": "display_data",
          "data": {
            "image/png": "[encoded data removed]",
            "text/plain": [
              "<Figure size 432x288 with 1 Axes>"
            ]
          },
          "metadata": {
            "tags": [],
            "needs_background": "light"
          }
        }
      ]
    },
    {
      "cell_type": "code",
      "metadata": {
        "id": "IK9BLz_t2aHd",
        "outputId": "3123832a-d0ec-4a01-9a3a-0d91fec06ffb",
        "colab": {
          "base_uri": "https://localhost:8080/",
          "height": 282
        }
      },
      "source": [
        "plt.plot(epoch,[0.9786,0.6926],label='Training Loss')\n",
        "plt.plot(epoch,[0.6858,0.6795],label ='Validation Loss')\n",
        "plt.legend()"
      ],
      "execution_count": null,
      "outputs": [
        {
          "output_type": "execute_result",
          "data": {
            "text/plain": [
              "<matplotlib.legend.Legend at 0x7f950899ce48>"
            ]
          },
          "metadata": {
            "tags": []
          },
          "execution_count": 71
        },
        {
          "output_type": "display_data",
          "data": {
            "image/png": "[encoded data removed]",
            "text/plain": [
              "<Figure size 432x288 with 1 Axes>"
            ]
          },
          "metadata": {
            "tags": [],
            "needs_background": "light"
          }
        }
      ]
    },
    {
      "cell_type": "code",
      "metadata": {
        "id": "Bv68SnWaP_uq"
      },
      "source": [
        "a = []\n",
        "while(1):\n",
        "    a.append('1')"
      ],
      "execution_count": null,
      "outputs": []
    },
    {
      "cell_type": "code",
      "metadata": {
        "id": "1tBAFVH2coMv"
      },
      "source": [
        "# Create Test Dataset and Loader\n",
        "sentences_t = []\n",
        "labels_t = []\n",
        "sentences_t[:] = test_data.transcription.values\n",
        "labels_t[:] = test_data.medical_specialty.values\n",
        "\n",
        "sentence_cleaned_t=[]\n",
        "sentence_cleaned_t = cleantext(sentences)\n",
        "\n",
        "Flattened_sentence = []\n",
        "Flattened_label = []\n",
        "for i in range(len(sentence_cleaned_t)):\n",
        "  for j in range(len(sentence_cleaned_t[i])):\n",
        "    Flattened_sentence.append(sentence_cleaned_t[i][j])\n",
        "    Flattened_label.append(labels_t[i])\n",
        "\n",
        "\n",
        "input_ids_t, attention_masks_t, labels_t = Berttokenize(Flattened_sentence,Flattened_label)\n",
        "\n",
        "# Create the DataLoader.\n",
        "testdata = TensorDataset(input_ids_t, attention_masks_t, labels_t)\n",
        "test_dataloader = DataLoader(testdata, shuffle=True, batch_size=batch_size)"
      ],
      "execution_count": null,
      "outputs": []
    },
    {
      "cell_type": "code",
      "metadata": {
        "id": "dfV50dcSd9su"
      },
      "source": [
        "def evaluate(model, test_dataloader):\n",
        "\n",
        "  # Put model in evaluation mode\n",
        "  model.eval()\n",
        "\n",
        "  # Tracking variables \n",
        "  predictions , true_labels = [], []\n",
        "  total_test_accuracy = 0\n",
        "  total_test_loss = 0\n",
        "  nb_test_steps = 0\n",
        "\n",
        "  # Predict \n",
        "  for batch in test_dataloader:\n",
        "    # Add batch to GPU\n",
        "    batch = tuple(t.to(device) for t in batch)\n",
        "    \n",
        "    # Unpack the inputs from our dataloader\n",
        "    b_input_ids, b_input_mask, b_labels = batch\n",
        "    \n",
        "    # Telling the model not to compute or store gradients, saving memory and \n",
        "    # speeding up prediction\n",
        "    with torch.no_grad():\n",
        "        # Forward pass, calculate logit predictions\n",
        "        outputs = model(b_input_ids, token_type_ids=None, \n",
        "                        attention_mask=b_input_mask)\n",
        "\n",
        "    logits = outputs[0]\n",
        "\n",
        "    # Move logits and labels to CPU\n",
        "    logits = logits.detach().cpu().numpy()\n",
        "    label_ids = b_labels.to('cpu').numpy()\n",
        "    \n",
        "    # Store predictions and true labels\n",
        "    predictions.append(logits)\n",
        "    true_labels.append(label_ids)\n",
        "\n",
        "    total_test_accuracy += flat_accuracy(logits, label_ids)\n",
        "          \n",
        "\n",
        "  # Report the final accuracy for this validation run.\n",
        "  avg_test_accuracy = total_test_accuracy / len(test_dataloader)\n",
        "  print(\"  Accuracy: {0:.2f}\".format(avg_test_accuracy))\n"
      ],
      "execution_count": null,
      "outputs": []
    },
    {
      "cell_type": "code",
      "metadata": {
        "id": "LuQWmBqyJzQt",
        "outputId": "d2da04fc-2ef9-49ab-e4e8-fd067ff1ab27",
        "colab": {
          "base_uri": "https://localhost:8080/",
          "height": 34
        }
      },
      "source": [
        "evaluate(fintuned_model,test_dataloader)"
      ],
      "execution_count": null,
      "outputs": [
        {
          "output_type": "stream",
          "text": [
            "  Accuracy: 0.67\n"
          ],
          "name": "stdout"
        }
      ]
    },
    {
      "cell_type": "markdown",
      "metadata": {
        "scrolled": true,
        "id": "s21fj0-zP0Hf"
      },
      "source": [
        "**3.7) (Bonus maximum 10 points)** List 5 examples on the test set that BERT misclassified. Describe reasons identified for misclassification."
      ]
    },
    {
      "cell_type": "markdown",
      "metadata": {
        "id": "_4Q_4FeSP0Hg"
      },
      "source": [
        ""
      ]
    }
  ]
}